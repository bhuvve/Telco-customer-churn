{
  "nbformat": 4,
  "nbformat_minor": 0,
  "metadata": {
    "colab": {
      "provenance": []
    },
    "kernelspec": {
      "name": "python3",
      "display_name": "Python 3"
    },
    "language_info": {
      "name": "python"
    }
  },
  "cells": [
    {
      "cell_type": "markdown",
      "source": [
        "## **Telco customer churn**\n",
        "Analyzing IBM telecommunications data (Kaggle dataset)"
      ],
      "metadata": {
        "id": "6pJ7QgETFXgG"
      }
    },
    {
      "cell_type": "markdown",
      "source": [
        "## **Problem Statement**\n",
        "Predicting customer churn is critical for telecommunication companies to be able to effectively retain customers. It is more costly to acquire new customers than to retain existing ones. For this reason, large telecommunications corporations are seeking to develop models to predict which customers are more likely to change and take actions accordingly.\n",
        "\n",
        "We build a model to predict how likely a customer will churn by analyzing its characteristics: (1) demographic information, (2) account information, and (3) services information. The objective is to obtain a data-driven solution that will allow us to reduce churn rates and, as a consequence, to increase customer satisfaction and corporation revenue."
      ],
      "metadata": {
        "id": "OsnItusUFhxN"
      }
    },
    {
      "cell_type": "code",
      "source": [
        "\n",
        "import numpy as np # linear algebra\n",
        "import pandas as pd # data processing, CSV file I/O (e.g. pd.read_csv)\n",
        "import matplotlib.pyplot as plt\n",
        "import seaborn as sns\n",
        "from sklearn.preprocessing import LabelEncoder\n",
        "from sklearn.model_selection import train_test_split\n",
        "from sklearn.preprocessing import StandardScaler\n",
        "from sklearn.ensemble import RandomForestClassifier\n",
        "from sklearn.metrics import confusion_matrix , classification_report\n",
        "from sklearn.metrics import roc_curve , auc\n",
        "\n",
        "\n",
        "# Input data files are available in the \"../input/\" directory.\n",
        "# For example, running this (by clicking run or pressing Shift+Enter) will list the files in the input directory\n",
        "\n",
        "#import os\n",
        "#print(os.listdir(\"../input\"))\n",
        "\n",
        "# Any results you write to the current directory are saved as output."
      ],
      "metadata": {
        "id": "NQ418erXHQW0"
      },
      "execution_count": 2,
      "outputs": []
    },
    {
      "cell_type": "markdown",
      "source": [
        "## **1. Data Reading**"
      ],
      "metadata": {
        "id": "qaLhfP_AfqFL"
      }
    },
    {
      "cell_type": "code",
      "execution_count": 5,
      "metadata": {
        "colab": {
          "base_uri": "https://localhost:8080/"
        },
        "id": "77aE_e_WFTua",
        "outputId": "eddcf174-0547-4540-b063-3aa8f44b64aa"
      },
      "outputs": [
        {
          "output_type": "execute_result",
          "data": {
            "text/plain": [
              "Index(['customerID', 'gender', 'SeniorCitizen', 'Partner', 'Dependents',\n",
              "       'tenure', 'PhoneService', 'MultipleLines', 'InternetService',\n",
              "       'OnlineSecurity', 'OnlineBackup', 'DeviceProtection', 'TechSupport',\n",
              "       'StreamingTV', 'StreamingMovies', 'Contract', 'PaperlessBilling',\n",
              "       'PaymentMethod', 'MonthlyCharges', 'TotalCharges', 'Churn'],\n",
              "      dtype='object')"
            ]
          },
          "metadata": {},
          "execution_count": 5
        }
      ],
      "source": [
        "# import telecom dataset into a pandas data frame\n",
        "df_telco = pd.read_excel('/content/WA_Fn-UseC_-Telco-Customer-Churn.xlsx')\n",
        "\n",
        "# visualize column names\n",
        "df_telco.columns"
      ]
    },
    {
      "cell_type": "code",
      "source": [
        "# check unique values of each column\n",
        "for column in df_telco.columns:\n",
        "    print('Column: {} - Unique Values: {}'.format(column, df_telco[column].unique()))"
      ],
      "metadata": {
        "colab": {
          "base_uri": "https://localhost:8080/"
        },
        "id": "TlBi0tg7HbnN",
        "outputId": "a7561994-8ea1-497e-c55e-6687c1eff145"
      },
      "execution_count": 6,
      "outputs": [
        {
          "output_type": "stream",
          "name": "stdout",
          "text": [
            "Column: customerID - Unique Values: ['7590-VHVEG' '5575-GNVDE' '3668-QPYBK' ... '4801-JZAZL' '8361-LTMKD'\n",
            " '3186-AJIEK']\n",
            "Column: gender - Unique Values: ['Female' 'Male']\n",
            "Column: SeniorCitizen - Unique Values: [0 1]\n",
            "Column: Partner - Unique Values: ['Yes' 'No']\n",
            "Column: Dependents - Unique Values: ['No' 'Yes']\n",
            "Column: tenure - Unique Values: [ 1 34  2 45  8 22 10 28 62 13 16 58 49 25 69 52 71 21 12 30 47 72 17 27\n",
            "  5 46 11 70 63 43 15 60 18 66  9  3 31 50 64 56  7 42 35 48 29 65 38 68\n",
            " 32 55 37 36 41  6  4 33 67 23 57 61 14 20 53 40 59 24 44 19 54 51 26  0\n",
            " 39]\n",
            "Column: PhoneService - Unique Values: ['No' 'Yes']\n",
            "Column: MultipleLines - Unique Values: ['No phone service' 'No' 'Yes']\n",
            "Column: InternetService - Unique Values: ['DSL' 'Fiber optic' 'No']\n",
            "Column: OnlineSecurity - Unique Values: ['No' 'Yes' 'No internet service']\n",
            "Column: OnlineBackup - Unique Values: ['Yes' 'No' 'No internet service']\n",
            "Column: DeviceProtection - Unique Values: ['No' 'Yes' 'No internet service']\n",
            "Column: TechSupport - Unique Values: ['No' 'Yes' 'No internet service']\n",
            "Column: StreamingTV - Unique Values: ['No' 'Yes' 'No internet service']\n",
            "Column: StreamingMovies - Unique Values: ['No' 'Yes' 'No internet service']\n",
            "Column: Contract - Unique Values: ['Month-to-month' 'One year' 'Two year']\n",
            "Column: PaperlessBilling - Unique Values: ['Yes' 'No']\n",
            "Column: PaymentMethod - Unique Values: ['Electronic check' 'Mailed check' 'Bank transfer (automatic)'\n",
            " 'Credit card (automatic)']\n",
            "Column: MonthlyCharges - Unique Values: [29.85 56.95 53.85 ... 63.1  44.2  78.7 ]\n",
            "Column: TotalCharges - Unique Values: [29.85 1889.5 108.15 ... 346.45 306.6 6844.5]\n",
            "Column: Churn - Unique Values: ['No' 'Yes']\n"
          ]
        }
      ]
    },
    {
      "cell_type": "markdown",
      "source": [
        "As shown above, the data set contains 19 independent variables, which can be classified into 3 groups:\n",
        "\n",
        "## **(1) Demographic Information**\n",
        "\n",
        "*gender*: Whether the client is a female or a male (Female, Male).\n",
        "\n",
        "*SeniorCitizen*: Whether the client is a senior citizen or not ( 0, 1).\n",
        "\n",
        "*Partner*: Whether the client has a partner or not (Yes, No).\n",
        "\n",
        "*Dependents*: Whether the client has dependents or not (Yes, No).\n",
        "\n",
        "## **(2) Customer Account Information**\n",
        "\n",
        "*tenure*: Number of months the customer has stayed with the company (Multiple different numeric values).\n",
        "\n",
        "*Contract*: Indicates the customer’s current contract type (Month-to-Month, One year, Two year).\n",
        "\n",
        "*PaperlessBilling*: Whether the client has paperless billing or not (Yes, No).\n",
        "\n",
        "*PaymentMethod*: The customer’s payment method (Electronic check, Mailed check, Bank transfer (automatic), Credit Card (automatic)).\n",
        "\n",
        "*MontlyCharges*: The amount charged to the customer monthly (Multiple different numeric values).\n",
        "\n",
        "*TotalCharges*: The total amount charged to the customer (Multiple different numeric values).\n",
        "\n",
        "# **(3) Services Information**\n",
        "\n",
        "*PhoneService*: Whether the client has a phone service or not (Yes, No).\n",
        "\n",
        "*MultipleLines*: Whether the client has multiple lines or not (No phone service, No, Yes).\n",
        "\n",
        "*InternetServices*: Whether the client is subscribed to Internet service with the company (DSL, Fiber optic, No)\n",
        "\n",
        "*OnlineSecurity*: Whether the client has online security or not (No internet service, No, Yes).\n",
        "\n",
        "*OnlineBackup*: Whether the client has online backup or not (No internet service, No, Yes).\n",
        "\n",
        "*DeviceProtection*: Whether the client has device protection or not (No internet service, No, Yes).\n",
        "\n",
        "*TechSupport*: Whether the client has tech support or not (No internet service, No, Yes).\n",
        "\n",
        "*StreamingTV*: Whether the client has streaming TV or not (No internet service, No, Yes).\n",
        "\n",
        "*StreamingMovies*: Whether the client has streaming movies or not (No internet service, No, Yes)."
      ],
      "metadata": {
        "id": "-IkmR5P8Hp_3"
      }
    },
    {
      "cell_type": "markdown",
      "source": [
        "# **2. Exploratory Data Analysis and Data Cleaning**"
      ],
      "metadata": {
        "id": "VIAK83HXIq6Z"
      }
    },
    {
      "cell_type": "code",
      "source": [
        "# summary of the data frame\n",
        "df_telco.info()"
      ],
      "metadata": {
        "colab": {
          "base_uri": "https://localhost:8080/"
        },
        "id": "Yv2XSzX7IkCc",
        "outputId": "47a97051-19fb-4526-e817-dd315c7c0502"
      },
      "execution_count": 7,
      "outputs": [
        {
          "output_type": "stream",
          "name": "stdout",
          "text": [
            "<class 'pandas.core.frame.DataFrame'>\n",
            "RangeIndex: 7043 entries, 0 to 7042\n",
            "Data columns (total 21 columns):\n",
            " #   Column            Non-Null Count  Dtype  \n",
            "---  ------            --------------  -----  \n",
            " 0   customerID        7043 non-null   object \n",
            " 1   gender            7043 non-null   object \n",
            " 2   SeniorCitizen     7043 non-null   int64  \n",
            " 3   Partner           7043 non-null   object \n",
            " 4   Dependents        7043 non-null   object \n",
            " 5   tenure            7043 non-null   int64  \n",
            " 6   PhoneService      7043 non-null   object \n",
            " 7   MultipleLines     7043 non-null   object \n",
            " 8   InternetService   7043 non-null   object \n",
            " 9   OnlineSecurity    7043 non-null   object \n",
            " 10  OnlineBackup      7043 non-null   object \n",
            " 11  DeviceProtection  7043 non-null   object \n",
            " 12  TechSupport       7043 non-null   object \n",
            " 13  StreamingTV       7043 non-null   object \n",
            " 14  StreamingMovies   7043 non-null   object \n",
            " 15  Contract          7043 non-null   object \n",
            " 16  PaperlessBilling  7043 non-null   object \n",
            " 17  PaymentMethod     7043 non-null   object \n",
            " 18  MonthlyCharges    7043 non-null   float64\n",
            " 19  TotalCharges      7043 non-null   object \n",
            " 20  Churn             7043 non-null   object \n",
            "dtypes: float64(1), int64(2), object(18)\n",
            "memory usage: 1.1+ MB\n"
          ]
        }
      ]
    },
    {
      "cell_type": "markdown",
      "source": [
        "TotalCharges was wrongly detected as an object. For further analysis, we need to transform this column into a numeric data type."
      ],
      "metadata": {
        "id": "nsUxaPdGI7TO"
      }
    },
    {
      "cell_type": "code",
      "source": [
        "# transform the column TotalCharges into a numeric data type\n",
        "df_telco['TotalCharges'] = pd.to_numeric(df_telco['TotalCharges'], errors='coerce')"
      ],
      "metadata": {
        "id": "5Av2wk-PIx6-"
      },
      "execution_count": 8,
      "outputs": []
    },
    {
      "cell_type": "code",
      "source": [
        "# null observations of the TotalCharges column\n",
        "df_telco[df_telco['TotalCharges'].isnull()]\n"
      ],
      "metadata": {
        "colab": {
          "base_uri": "https://localhost:8080/",
          "height": 678
        },
        "id": "kqUZ5iWuI-6F",
        "outputId": "322315d9-5f30-4864-a8b7-135e3123d62b"
      },
      "execution_count": 9,
      "outputs": [
        {
          "output_type": "execute_result",
          "data": {
            "text/plain": [
              "      customerID  gender  SeniorCitizen Partner Dependents  tenure  \\\n",
              "488   4472-LVYGI  Female              0     Yes        Yes       0   \n",
              "753   3115-CZMZD    Male              0      No        Yes       0   \n",
              "936   5709-LVOEQ  Female              0     Yes        Yes       0   \n",
              "1082  4367-NUYAO    Male              0     Yes        Yes       0   \n",
              "1340  1371-DWPAZ  Female              0     Yes        Yes       0   \n",
              "3331  7644-OMVMY    Male              0     Yes        Yes       0   \n",
              "3826  3213-VVOLG    Male              0     Yes        Yes       0   \n",
              "4380  2520-SGTTA  Female              0     Yes        Yes       0   \n",
              "5218  2923-ARZLG    Male              0     Yes        Yes       0   \n",
              "6670  4075-WKNIU  Female              0     Yes        Yes       0   \n",
              "6754  2775-SEFEE    Male              0      No        Yes       0   \n",
              "\n",
              "     PhoneService     MultipleLines InternetService       OnlineSecurity  ...  \\\n",
              "488            No  No phone service             DSL                  Yes  ...   \n",
              "753           Yes                No              No  No internet service  ...   \n",
              "936           Yes                No             DSL                  Yes  ...   \n",
              "1082          Yes               Yes              No  No internet service  ...   \n",
              "1340           No  No phone service             DSL                  Yes  ...   \n",
              "3331          Yes                No              No  No internet service  ...   \n",
              "3826          Yes               Yes              No  No internet service  ...   \n",
              "4380          Yes                No              No  No internet service  ...   \n",
              "5218          Yes                No              No  No internet service  ...   \n",
              "6670          Yes               Yes             DSL                   No  ...   \n",
              "6754          Yes               Yes             DSL                  Yes  ...   \n",
              "\n",
              "         DeviceProtection          TechSupport          StreamingTV  \\\n",
              "488                   Yes                  Yes                  Yes   \n",
              "753   No internet service  No internet service  No internet service   \n",
              "936                   Yes                   No                  Yes   \n",
              "1082  No internet service  No internet service  No internet service   \n",
              "1340                  Yes                  Yes                  Yes   \n",
              "3331  No internet service  No internet service  No internet service   \n",
              "3826  No internet service  No internet service  No internet service   \n",
              "4380  No internet service  No internet service  No internet service   \n",
              "5218  No internet service  No internet service  No internet service   \n",
              "6670                  Yes                  Yes                  Yes   \n",
              "6754                   No                  Yes                   No   \n",
              "\n",
              "          StreamingMovies  Contract PaperlessBilling  \\\n",
              "488                    No  Two year              Yes   \n",
              "753   No internet service  Two year               No   \n",
              "936                   Yes  Two year               No   \n",
              "1082  No internet service  Two year               No   \n",
              "1340                   No  Two year               No   \n",
              "3331  No internet service  Two year               No   \n",
              "3826  No internet service  Two year               No   \n",
              "4380  No internet service  Two year               No   \n",
              "5218  No internet service  One year              Yes   \n",
              "6670                   No  Two year               No   \n",
              "6754                   No  Two year              Yes   \n",
              "\n",
              "                  PaymentMethod MonthlyCharges  TotalCharges  Churn  \n",
              "488   Bank transfer (automatic)          52.55           NaN     No  \n",
              "753                Mailed check          20.25           NaN     No  \n",
              "936                Mailed check          80.85           NaN     No  \n",
              "1082               Mailed check          25.75           NaN     No  \n",
              "1340    Credit card (automatic)          56.05           NaN     No  \n",
              "3331               Mailed check          19.85           NaN     No  \n",
              "3826               Mailed check          25.35           NaN     No  \n",
              "4380               Mailed check          20.00           NaN     No  \n",
              "5218               Mailed check          19.70           NaN     No  \n",
              "6670               Mailed check          73.35           NaN     No  \n",
              "6754  Bank transfer (automatic)          61.90           NaN     No  \n",
              "\n",
              "[11 rows x 21 columns]"
            ],
            "text/html": [
              "\n",
              "  <div id=\"df-080efd36-6215-4f57-ba3e-5e9f52329f72\">\n",
              "    <div class=\"colab-df-container\">\n",
              "      <div>\n",
              "<style scoped>\n",
              "    .dataframe tbody tr th:only-of-type {\n",
              "        vertical-align: middle;\n",
              "    }\n",
              "\n",
              "    .dataframe tbody tr th {\n",
              "        vertical-align: top;\n",
              "    }\n",
              "\n",
              "    .dataframe thead th {\n",
              "        text-align: right;\n",
              "    }\n",
              "</style>\n",
              "<table border=\"1\" class=\"dataframe\">\n",
              "  <thead>\n",
              "    <tr style=\"text-align: right;\">\n",
              "      <th></th>\n",
              "      <th>customerID</th>\n",
              "      <th>gender</th>\n",
              "      <th>SeniorCitizen</th>\n",
              "      <th>Partner</th>\n",
              "      <th>Dependents</th>\n",
              "      <th>tenure</th>\n",
              "      <th>PhoneService</th>\n",
              "      <th>MultipleLines</th>\n",
              "      <th>InternetService</th>\n",
              "      <th>OnlineSecurity</th>\n",
              "      <th>...</th>\n",
              "      <th>DeviceProtection</th>\n",
              "      <th>TechSupport</th>\n",
              "      <th>StreamingTV</th>\n",
              "      <th>StreamingMovies</th>\n",
              "      <th>Contract</th>\n",
              "      <th>PaperlessBilling</th>\n",
              "      <th>PaymentMethod</th>\n",
              "      <th>MonthlyCharges</th>\n",
              "      <th>TotalCharges</th>\n",
              "      <th>Churn</th>\n",
              "    </tr>\n",
              "  </thead>\n",
              "  <tbody>\n",
              "    <tr>\n",
              "      <th>488</th>\n",
              "      <td>4472-LVYGI</td>\n",
              "      <td>Female</td>\n",
              "      <td>0</td>\n",
              "      <td>Yes</td>\n",
              "      <td>Yes</td>\n",
              "      <td>0</td>\n",
              "      <td>No</td>\n",
              "      <td>No phone service</td>\n",
              "      <td>DSL</td>\n",
              "      <td>Yes</td>\n",
              "      <td>...</td>\n",
              "      <td>Yes</td>\n",
              "      <td>Yes</td>\n",
              "      <td>Yes</td>\n",
              "      <td>No</td>\n",
              "      <td>Two year</td>\n",
              "      <td>Yes</td>\n",
              "      <td>Bank transfer (automatic)</td>\n",
              "      <td>52.55</td>\n",
              "      <td>NaN</td>\n",
              "      <td>No</td>\n",
              "    </tr>\n",
              "    <tr>\n",
              "      <th>753</th>\n",
              "      <td>3115-CZMZD</td>\n",
              "      <td>Male</td>\n",
              "      <td>0</td>\n",
              "      <td>No</td>\n",
              "      <td>Yes</td>\n",
              "      <td>0</td>\n",
              "      <td>Yes</td>\n",
              "      <td>No</td>\n",
              "      <td>No</td>\n",
              "      <td>No internet service</td>\n",
              "      <td>...</td>\n",
              "      <td>No internet service</td>\n",
              "      <td>No internet service</td>\n",
              "      <td>No internet service</td>\n",
              "      <td>No internet service</td>\n",
              "      <td>Two year</td>\n",
              "      <td>No</td>\n",
              "      <td>Mailed check</td>\n",
              "      <td>20.25</td>\n",
              "      <td>NaN</td>\n",
              "      <td>No</td>\n",
              "    </tr>\n",
              "    <tr>\n",
              "      <th>936</th>\n",
              "      <td>5709-LVOEQ</td>\n",
              "      <td>Female</td>\n",
              "      <td>0</td>\n",
              "      <td>Yes</td>\n",
              "      <td>Yes</td>\n",
              "      <td>0</td>\n",
              "      <td>Yes</td>\n",
              "      <td>No</td>\n",
              "      <td>DSL</td>\n",
              "      <td>Yes</td>\n",
              "      <td>...</td>\n",
              "      <td>Yes</td>\n",
              "      <td>No</td>\n",
              "      <td>Yes</td>\n",
              "      <td>Yes</td>\n",
              "      <td>Two year</td>\n",
              "      <td>No</td>\n",
              "      <td>Mailed check</td>\n",
              "      <td>80.85</td>\n",
              "      <td>NaN</td>\n",
              "      <td>No</td>\n",
              "    </tr>\n",
              "    <tr>\n",
              "      <th>1082</th>\n",
              "      <td>4367-NUYAO</td>\n",
              "      <td>Male</td>\n",
              "      <td>0</td>\n",
              "      <td>Yes</td>\n",
              "      <td>Yes</td>\n",
              "      <td>0</td>\n",
              "      <td>Yes</td>\n",
              "      <td>Yes</td>\n",
              "      <td>No</td>\n",
              "      <td>No internet service</td>\n",
              "      <td>...</td>\n",
              "      <td>No internet service</td>\n",
              "      <td>No internet service</td>\n",
              "      <td>No internet service</td>\n",
              "      <td>No internet service</td>\n",
              "      <td>Two year</td>\n",
              "      <td>No</td>\n",
              "      <td>Mailed check</td>\n",
              "      <td>25.75</td>\n",
              "      <td>NaN</td>\n",
              "      <td>No</td>\n",
              "    </tr>\n",
              "    <tr>\n",
              "      <th>1340</th>\n",
              "      <td>1371-DWPAZ</td>\n",
              "      <td>Female</td>\n",
              "      <td>0</td>\n",
              "      <td>Yes</td>\n",
              "      <td>Yes</td>\n",
              "      <td>0</td>\n",
              "      <td>No</td>\n",
              "      <td>No phone service</td>\n",
              "      <td>DSL</td>\n",
              "      <td>Yes</td>\n",
              "      <td>...</td>\n",
              "      <td>Yes</td>\n",
              "      <td>Yes</td>\n",
              "      <td>Yes</td>\n",
              "      <td>No</td>\n",
              "      <td>Two year</td>\n",
              "      <td>No</td>\n",
              "      <td>Credit card (automatic)</td>\n",
              "      <td>56.05</td>\n",
              "      <td>NaN</td>\n",
              "      <td>No</td>\n",
              "    </tr>\n",
              "    <tr>\n",
              "      <th>3331</th>\n",
              "      <td>7644-OMVMY</td>\n",
              "      <td>Male</td>\n",
              "      <td>0</td>\n",
              "      <td>Yes</td>\n",
              "      <td>Yes</td>\n",
              "      <td>0</td>\n",
              "      <td>Yes</td>\n",
              "      <td>No</td>\n",
              "      <td>No</td>\n",
              "      <td>No internet service</td>\n",
              "      <td>...</td>\n",
              "      <td>No internet service</td>\n",
              "      <td>No internet service</td>\n",
              "      <td>No internet service</td>\n",
              "      <td>No internet service</td>\n",
              "      <td>Two year</td>\n",
              "      <td>No</td>\n",
              "      <td>Mailed check</td>\n",
              "      <td>19.85</td>\n",
              "      <td>NaN</td>\n",
              "      <td>No</td>\n",
              "    </tr>\n",
              "    <tr>\n",
              "      <th>3826</th>\n",
              "      <td>3213-VVOLG</td>\n",
              "      <td>Male</td>\n",
              "      <td>0</td>\n",
              "      <td>Yes</td>\n",
              "      <td>Yes</td>\n",
              "      <td>0</td>\n",
              "      <td>Yes</td>\n",
              "      <td>Yes</td>\n",
              "      <td>No</td>\n",
              "      <td>No internet service</td>\n",
              "      <td>...</td>\n",
              "      <td>No internet service</td>\n",
              "      <td>No internet service</td>\n",
              "      <td>No internet service</td>\n",
              "      <td>No internet service</td>\n",
              "      <td>Two year</td>\n",
              "      <td>No</td>\n",
              "      <td>Mailed check</td>\n",
              "      <td>25.35</td>\n",
              "      <td>NaN</td>\n",
              "      <td>No</td>\n",
              "    </tr>\n",
              "    <tr>\n",
              "      <th>4380</th>\n",
              "      <td>2520-SGTTA</td>\n",
              "      <td>Female</td>\n",
              "      <td>0</td>\n",
              "      <td>Yes</td>\n",
              "      <td>Yes</td>\n",
              "      <td>0</td>\n",
              "      <td>Yes</td>\n",
              "      <td>No</td>\n",
              "      <td>No</td>\n",
              "      <td>No internet service</td>\n",
              "      <td>...</td>\n",
              "      <td>No internet service</td>\n",
              "      <td>No internet service</td>\n",
              "      <td>No internet service</td>\n",
              "      <td>No internet service</td>\n",
              "      <td>Two year</td>\n",
              "      <td>No</td>\n",
              "      <td>Mailed check</td>\n",
              "      <td>20.00</td>\n",
              "      <td>NaN</td>\n",
              "      <td>No</td>\n",
              "    </tr>\n",
              "    <tr>\n",
              "      <th>5218</th>\n",
              "      <td>2923-ARZLG</td>\n",
              "      <td>Male</td>\n",
              "      <td>0</td>\n",
              "      <td>Yes</td>\n",
              "      <td>Yes</td>\n",
              "      <td>0</td>\n",
              "      <td>Yes</td>\n",
              "      <td>No</td>\n",
              "      <td>No</td>\n",
              "      <td>No internet service</td>\n",
              "      <td>...</td>\n",
              "      <td>No internet service</td>\n",
              "      <td>No internet service</td>\n",
              "      <td>No internet service</td>\n",
              "      <td>No internet service</td>\n",
              "      <td>One year</td>\n",
              "      <td>Yes</td>\n",
              "      <td>Mailed check</td>\n",
              "      <td>19.70</td>\n",
              "      <td>NaN</td>\n",
              "      <td>No</td>\n",
              "    </tr>\n",
              "    <tr>\n",
              "      <th>6670</th>\n",
              "      <td>4075-WKNIU</td>\n",
              "      <td>Female</td>\n",
              "      <td>0</td>\n",
              "      <td>Yes</td>\n",
              "      <td>Yes</td>\n",
              "      <td>0</td>\n",
              "      <td>Yes</td>\n",
              "      <td>Yes</td>\n",
              "      <td>DSL</td>\n",
              "      <td>No</td>\n",
              "      <td>...</td>\n",
              "      <td>Yes</td>\n",
              "      <td>Yes</td>\n",
              "      <td>Yes</td>\n",
              "      <td>No</td>\n",
              "      <td>Two year</td>\n",
              "      <td>No</td>\n",
              "      <td>Mailed check</td>\n",
              "      <td>73.35</td>\n",
              "      <td>NaN</td>\n",
              "      <td>No</td>\n",
              "    </tr>\n",
              "    <tr>\n",
              "      <th>6754</th>\n",
              "      <td>2775-SEFEE</td>\n",
              "      <td>Male</td>\n",
              "      <td>0</td>\n",
              "      <td>No</td>\n",
              "      <td>Yes</td>\n",
              "      <td>0</td>\n",
              "      <td>Yes</td>\n",
              "      <td>Yes</td>\n",
              "      <td>DSL</td>\n",
              "      <td>Yes</td>\n",
              "      <td>...</td>\n",
              "      <td>No</td>\n",
              "      <td>Yes</td>\n",
              "      <td>No</td>\n",
              "      <td>No</td>\n",
              "      <td>Two year</td>\n",
              "      <td>Yes</td>\n",
              "      <td>Bank transfer (automatic)</td>\n",
              "      <td>61.90</td>\n",
              "      <td>NaN</td>\n",
              "      <td>No</td>\n",
              "    </tr>\n",
              "  </tbody>\n",
              "</table>\n",
              "<p>11 rows × 21 columns</p>\n",
              "</div>\n",
              "      <button class=\"colab-df-convert\" onclick=\"convertToInteractive('df-080efd36-6215-4f57-ba3e-5e9f52329f72')\"\n",
              "              title=\"Convert this dataframe to an interactive table.\"\n",
              "              style=\"display:none;\">\n",
              "        \n",
              "  <svg xmlns=\"http://www.w3.org/2000/svg\" height=\"24px\"viewBox=\"0 0 24 24\"\n",
              "       width=\"24px\">\n",
              "    <path d=\"M0 0h24v24H0V0z\" fill=\"none\"/>\n",
              "    <path d=\"M18.56 5.44l.94 2.06.94-2.06 2.06-.94-2.06-.94-.94-2.06-.94 2.06-2.06.94zm-11 1L8.5 8.5l.94-2.06 2.06-.94-2.06-.94L8.5 2.5l-.94 2.06-2.06.94zm10 10l.94 2.06.94-2.06 2.06-.94-2.06-.94-.94-2.06-.94 2.06-2.06.94z\"/><path d=\"M17.41 7.96l-1.37-1.37c-.4-.4-.92-.59-1.43-.59-.52 0-1.04.2-1.43.59L10.3 9.45l-7.72 7.72c-.78.78-.78 2.05 0 2.83L4 21.41c.39.39.9.59 1.41.59.51 0 1.02-.2 1.41-.59l7.78-7.78 2.81-2.81c.8-.78.8-2.07 0-2.86zM5.41 20L4 18.59l7.72-7.72 1.47 1.35L5.41 20z\"/>\n",
              "  </svg>\n",
              "      </button>\n",
              "      \n",
              "  <style>\n",
              "    .colab-df-container {\n",
              "      display:flex;\n",
              "      flex-wrap:wrap;\n",
              "      gap: 12px;\n",
              "    }\n",
              "\n",
              "    .colab-df-convert {\n",
              "      background-color: #E8F0FE;\n",
              "      border: none;\n",
              "      border-radius: 50%;\n",
              "      cursor: pointer;\n",
              "      display: none;\n",
              "      fill: #1967D2;\n",
              "      height: 32px;\n",
              "      padding: 0 0 0 0;\n",
              "      width: 32px;\n",
              "    }\n",
              "\n",
              "    .colab-df-convert:hover {\n",
              "      background-color: #E2EBFA;\n",
              "      box-shadow: 0px 1px 2px rgba(60, 64, 67, 0.3), 0px 1px 3px 1px rgba(60, 64, 67, 0.15);\n",
              "      fill: #174EA6;\n",
              "    }\n",
              "\n",
              "    [theme=dark] .colab-df-convert {\n",
              "      background-color: #3B4455;\n",
              "      fill: #D2E3FC;\n",
              "    }\n",
              "\n",
              "    [theme=dark] .colab-df-convert:hover {\n",
              "      background-color: #434B5C;\n",
              "      box-shadow: 0px 1px 3px 1px rgba(0, 0, 0, 0.15);\n",
              "      filter: drop-shadow(0px 1px 2px rgba(0, 0, 0, 0.3));\n",
              "      fill: #FFFFFF;\n",
              "    }\n",
              "  </style>\n",
              "\n",
              "      <script>\n",
              "        const buttonEl =\n",
              "          document.querySelector('#df-080efd36-6215-4f57-ba3e-5e9f52329f72 button.colab-df-convert');\n",
              "        buttonEl.style.display =\n",
              "          google.colab.kernel.accessAllowed ? 'block' : 'none';\n",
              "\n",
              "        async function convertToInteractive(key) {\n",
              "          const element = document.querySelector('#df-080efd36-6215-4f57-ba3e-5e9f52329f72');\n",
              "          const dataTable =\n",
              "            await google.colab.kernel.invokeFunction('convertToInteractive',\n",
              "                                                     [key], {});\n",
              "          if (!dataTable) return;\n",
              "\n",
              "          const docLinkHtml = 'Like what you see? Visit the ' +\n",
              "            '<a target=\"_blank\" href=https://colab.research.google.com/notebooks/data_table.ipynb>data table notebook</a>'\n",
              "            + ' to learn more about interactive tables.';\n",
              "          element.innerHTML = '';\n",
              "          dataTable['output_type'] = 'display_data';\n",
              "          await google.colab.output.renderOutput(dataTable, element);\n",
              "          const docLink = document.createElement('div');\n",
              "          docLink.innerHTML = docLinkHtml;\n",
              "          element.appendChild(docLink);\n",
              "        }\n",
              "      </script>\n",
              "    </div>\n",
              "  </div>\n",
              "  "
            ]
          },
          "metadata": {},
          "execution_count": 9
        }
      ]
    },
    {
      "cell_type": "markdown",
      "source": [
        "# We can now observe that the column TotalCharges has 11 missing values.\n",
        "\n",
        "# These observations have also a tenure of 0, even though MontlyCharges is not null for these entries. This information appeared to be contradictory, and therefore, we decide to remove those observations from the data set."
      ],
      "metadata": {
        "id": "Ueg4WASeJM22"
      }
    },
    {
      "cell_type": "code",
      "source": [
        "# drop observations with null values\n",
        "df_telco.dropna(inplace=True)"
      ],
      "metadata": {
        "id": "vv6fAXweJKmM"
      },
      "execution_count": 10,
      "outputs": []
    },
    {
      "cell_type": "markdown",
      "source": [
        "## **Remove customerID column**\n",
        "\n",
        "## The customerID column is useless to explain whether not the customer will churn. Therefore, we drop this column from the data set."
      ],
      "metadata": {
        "id": "KJER_B96JbMm"
      }
    },
    {
      "cell_type": "code",
      "source": [
        "# drop the customerID column from the dataset\n",
        "df_telco.drop(columns='customerID', inplace=True)"
      ],
      "metadata": {
        "id": "10toY3p6Jbz0"
      },
      "execution_count": 11,
      "outputs": []
    },
    {
      "cell_type": "markdown",
      "source": [
        "## **Payment method denominations**\n",
        "\n",
        "# As shown below, some payment method denominations contain in parenthesis the word automatic. These denominations are too long to be used as tick labels in further visualizations. Therefore, we remove this clarification in parenthesis from the entries of the PaymentMethod column."
      ],
      "metadata": {
        "id": "G7s32nIeJqWd"
      }
    },
    {
      "cell_type": "code",
      "source": [
        "# unique elements of the PaymentMethod column\n",
        "df_telco.PaymentMethod.unique()"
      ],
      "metadata": {
        "colab": {
          "base_uri": "https://localhost:8080/"
        },
        "id": "d3-CkSBVJzPD",
        "outputId": "d0f38264-952c-4a8e-ca93-a646bf057c9d"
      },
      "execution_count": 12,
      "outputs": [
        {
          "output_type": "execute_result",
          "data": {
            "text/plain": [
              "array(['Electronic check', 'Mailed check', 'Bank transfer (automatic)',\n",
              "       'Credit card (automatic)'], dtype=object)"
            ]
          },
          "metadata": {},
          "execution_count": 12
        }
      ]
    },
    {
      "cell_type": "code",
      "source": [
        "# remove (automatic) from payment method names\n",
        "df_telco['PaymentMethod'] = df_telco['PaymentMethod'].str.replace(' (automatic)', '', regex=False)"
      ],
      "metadata": {
        "id": "3qyUYZ4xJ2d9"
      },
      "execution_count": 13,
      "outputs": []
    },
    {
      "cell_type": "code",
      "source": [
        "# unique elements of the PaymentMethod column after the modification \n",
        "df_telco.PaymentMethod.unique()"
      ],
      "metadata": {
        "colab": {
          "base_uri": "https://localhost:8080/"
        },
        "id": "FWLqD57KJ9_3",
        "outputId": "44a9b487-89a2-4166-8f8f-ff8b8f1d4eca"
      },
      "execution_count": 14,
      "outputs": [
        {
          "output_type": "execute_result",
          "data": {
            "text/plain": [
              "array(['Electronic check', 'Mailed check', 'Bank transfer', 'Credit card'],\n",
              "      dtype=object)"
            ]
          },
          "metadata": {},
          "execution_count": 14
        }
      ]
    },
    {
      "cell_type": "markdown",
      "source": [
        "## **3. Data Visualization**"
      ],
      "metadata": {
        "id": "LnFu9Ad4KLCg"
      }
    },
    {
      "cell_type": "markdown",
      "source": [
        "Response Variable\n",
        "The following bar plot shows the percentage of observations that correspond to each class of the response variable: no and yes. As shown below, this is an imbalanced data set because both classes are not equally distributed among all observations, being no the majority class (73.42%). When modeling, this imbalance will lead to a large number of false negatives, as we will see later."
      ],
      "metadata": {
        "id": "SiSCItd3KQvA"
      }
    },
    {
      "cell_type": "code",
      "source": [
        "# create a figure\n",
        "fig = plt.figure(figsize=(10, 6)) \n",
        "ax = fig.add_subplot(111)\n",
        "\n",
        "# proportion of observation of each class\n",
        "prop_response = df_telco['Churn'].value_counts(normalize=True)\n",
        "\n",
        "# create a bar plot showing the percentage of churn\n",
        "prop_response.plot(kind='bar', \n",
        "                   ax=ax,\n",
        "                   color=['springgreen','salmon'])\n",
        "\n",
        "# set title and labels\n",
        "ax.set_title('Proportion of observations of the response variable',\n",
        "             fontsize=18, loc='left')\n",
        "ax.set_xlabel('churn',\n",
        "              fontsize=14)\n",
        "ax.set_ylabel('proportion of observations',\n",
        "              fontsize=14)\n",
        "ax.tick_params(rotation='auto')\n",
        "\n",
        "# eliminate the frame from the plot\n",
        "spine_names = ('top', 'right', 'bottom', 'left')\n",
        "for spine_name in spine_names:\n",
        "    ax.spines[spine_name].set_visible(False)"
      ],
      "metadata": {
        "colab": {
          "base_uri": "https://localhost:8080/",
          "height": 412
        },
        "id": "lPWrqdwcKE_S",
        "outputId": "e8aa516c-b165-4620-af3b-05f174343180"
      },
      "execution_count": 15,
      "outputs": [
        {
          "output_type": "display_data",
          "data": {
            "text/plain": [
              "<Figure size 720x432 with 1 Axes>"
            ],
            "image/png": "[encoded data removed]"
          },
          "metadata": {
            "needs_background": "light"
          }
        }
      ]
    },
    {
      "cell_type": "markdown",
      "source": [
        "## **Demographic Information**"
      ],
      "metadata": {
        "id": "7a6LdgjBK5G5"
      }
    },
    {
      "cell_type": "markdown",
      "source": [
        "Bar chart for each demographic attribute (gender, SeniorCitizen, Partner, Dependents), showing the percentage of Churn for each category of the attribute."
      ],
      "metadata": {
        "id": "IX8J8ma-ONyV"
      }
    },
    {
      "cell_type": "code",
      "source": [
        "import math\n",
        "def percentage_stacked_plot(columns_to_plot, super_title):\n",
        "    \n",
        "    '''\n",
        "    Prints a 100% stacked plot of the response variable for independent variable of the list columns_to_plot.\n",
        "            Parameters:\n",
        "                    columns_to_plot (list of string): Names of the variables to plot\n",
        "                    super_title (string): Super title of the visualization\n",
        "            Returns:\n",
        "                    None\n",
        "    '''\n",
        "    \n",
        "    number_of_columns = 2\n",
        "    number_of_rows = math.ceil(len(columns_to_plot)/2)\n",
        "\n",
        "    # create a figure\n",
        "    fig = plt.figure(figsize=(12, 5 * number_of_rows)) \n",
        "    fig.suptitle(super_title, fontsize=22,  y=.95)\n",
        " \n",
        "\n",
        "    # loop to each column name to create a subplot\n",
        "    for index, column in enumerate(columns_to_plot, 1):\n",
        "\n",
        "        # create the subplot\n",
        "        ax = fig.add_subplot(number_of_rows, number_of_columns, index)\n",
        "\n",
        "        # calculate the percentage of observations of the response variable for each group of the independent variable\n",
        "        # 100% stacked bar plot\n",
        "        prop_by_independent = pd.crosstab(df_telco[column], df_telco['Churn']).apply(lambda x: x/x.sum()*100, axis=1)\n",
        "\n",
        "        prop_by_independent.plot(kind='bar', ax=ax, stacked=True,\n",
        "                                 rot=0, color=['springgreen','salmon'])\n",
        "\n",
        "        # set the legend in the upper right corner\n",
        "        ax.legend(loc=\"upper right\", bbox_to_anchor=(0.62, 0.5, 0.5, 0.5),\n",
        "                  title='Churn', fancybox=True)\n",
        "\n",
        "        # set title and labels\n",
        "        ax.set_title('Proportion of observations by ' + column,\n",
        "                     fontsize=16, loc='left')\n",
        "\n",
        "        ax.tick_params(rotation='auto')\n",
        "\n",
        "        # eliminate the frame from the plot\n",
        "        spine_names = ('top', 'right', 'bottom', 'left')\n",
        "        for spine_name in spine_names:\n",
        "            ax.spines[spine_name].set_visible(False)"
      ],
      "metadata": {
        "id": "dAZPMkHnKkDZ"
      },
      "execution_count": 25,
      "outputs": []
    },
    {
      "cell_type": "code",
      "source": [
        "# demographic column names\n",
        "demographic_columns = ['gender', 'SeniorCitizen', 'Partner', 'Dependents']\n",
        "\n",
        "# stacked plot of demographic columns\n",
        "percentage_stacked_plot(demographic_columns, 'Demographic Information')"
      ],
      "metadata": {
        "colab": {
          "base_uri": "https://localhost:8080/",
          "height": 656
        },
        "id": "ArVsqBNdLBx_",
        "outputId": "759b6e71-0ba7-470c-b5b3-d598a0f0c4b0"
      },
      "execution_count": 26,
      "outputs": [
        {
          "output_type": "display_data",
          "data": {
            "text/plain": [
              "<Figure size 864x720 with 4 Axes>"
            ],
            "image/png": "[encoded data removed]"
          },
          "metadata": {
            "needs_background": "light"
          }
        }
      ]
    },
    {
      "cell_type": "markdown",
      "source": [
        "We can extract the following conclusions by analyzing demographic attributes:\n",
        "\n",
        "\n",
        "We cannot see a real Impact of gender\n",
        "\n",
        "The churn rate of senior citizens is almost double that of young citizens.\n",
        "\n",
        "Customers with a partner churn less than customers with no partne"
      ],
      "metadata": {
        "id": "Ix9_hFSNMZVq"
      }
    },
    {
      "cell_type": "markdown",
      "source": [
        "## **Customer Account Information — Categorical variables**"
      ],
      "metadata": {
        "id": "KiLBNF7NNlIx"
      }
    },
    {
      "cell_type": "markdown",
      "source": [
        "we evaluate the percentage of Churn for each category of the customer account attributes (Contract, PaperlessBilling, PaymentMethod)."
      ],
      "metadata": {
        "id": "CmFj4j0wNnLR"
      }
    },
    {
      "cell_type": "code",
      "source": [
        "# customer account column names\n",
        "account_columns = ['Contract', 'PaperlessBilling', 'PaymentMethod']\n",
        "\n",
        "# stacked plot of customer account columns\n",
        "percentage_stacked_plot(account_columns, 'Customer Account Information')"
      ],
      "metadata": {
        "colab": {
          "base_uri": "https://localhost:8080/",
          "height": 656
        },
        "id": "8g5GbmHUMPrd",
        "outputId": "b352cf1c-9b6e-4f38-89f1-67660dfe3c7c"
      },
      "execution_count": 27,
      "outputs": [
        {
          "output_type": "display_data",
          "data": {
            "text/plain": [
              "<Figure size 864x720 with 3 Axes>"
            ],
            "image/png": "[encoded data removed]"
          },
          "metadata": {
            "needs_background": "light"
          }
        }
      ]
    },
    {
      "cell_type": "markdown",
      "source": [
        "We can extract the following conclusions by analyzing customer account attributes:\n",
        "\n",
        "Customers with month-to-month contracts have higher churn rates compared to clients with yearly contracts.\n",
        "\n",
        "Customers who opted for an electronic check as paying method are more likely to leave the company.\n",
        "\n",
        "Customers subscribed to paperless billing churn more than those who are not subscribed."
      ],
      "metadata": {
        "id": "zpZkddi9NwA_"
      }
    },
    {
      "cell_type": "markdown",
      "source": [
        "## **Customer Account Information — Numerical variables**"
      ],
      "metadata": {
        "id": "N_Y7jLm_OTX_"
      }
    },
    {
      "cell_type": "markdown",
      "source": [
        "The following plots show the distribution of tenure, MontlyCharges, TotalCharges by Churn. For all numeric attributes, the distributions of both classes (No and Yes) are different which suggests that all of the attributes will be useful to determine whether or not a customer churns."
      ],
      "metadata": {
        "id": "UdcR1pL_OdGB"
      }
    },
    {
      "cell_type": "code",
      "source": [
        "def histogram_plots(columns_to_plot, super_title):\n",
        "    \n",
        "    \n",
        "    # set number of rows and number of columns\n",
        "    number_of_columns = 2\n",
        "    number_of_rows = math.ceil(len(columns_to_plot)/2)\n",
        "\n",
        "    # create a figure\n",
        "    fig = plt.figure(figsize=(12, 5 * number_of_rows)) \n",
        "    fig.suptitle(super_title, fontsize=22,  y=.95)\n",
        " \n",
        "\n",
        "    # loop to each demographic column name to create a subplot\n",
        "    for index, column in enumerate(columns_to_plot, 1):\n",
        "\n",
        "        # create the subplot\n",
        "        ax = fig.add_subplot(number_of_rows, number_of_columns, index)\n",
        "\n",
        "        # histograms for each class (normalized histogram)\n",
        "        df_telco[df_telco['Churn']=='No'][column].plot(kind='hist', ax=ax, density=True, \n",
        "                                                       alpha=0.5, color='springgreen', label='No')\n",
        "        df_telco[df_telco['Churn']=='Yes'][column].plot(kind='hist', ax=ax, density=True,\n",
        "                                                        alpha=0.5, color='salmon', label='Yes')\n",
        "        \n",
        "        # set the legend in the upper right corner\n",
        "        ax.legend(loc=\"upper right\", bbox_to_anchor=(0.5, 0.5, 0.5, 0.5),\n",
        "                  title='Churn', fancybox=True)\n",
        "\n",
        "        # set title and labels\n",
        "        ax.set_title('Distribution of ' + column + ' by churn',\n",
        "                     fontsize=16, loc='left')\n",
        "\n",
        "        ax.tick_params(rotation='auto')\n",
        "\n",
        "        # eliminate the frame from the plot\n",
        "        spine_names = ('top', 'right', 'bottom', 'left')\n",
        "        for spine_name in spine_names:\n",
        "            ax.spines[spine_name].set_visible(False)\n",
        "            \n",
        "# customer account column names\n",
        "account_columns_numeric = ['tenure', 'MonthlyCharges', 'TotalCharges']\n",
        "# histogram of costumer account columns \n",
        "histogram_plots(account_columns_numeric, 'Customer Account Information')"
      ],
      "metadata": {
        "colab": {
          "base_uri": "https://localhost:8080/",
          "height": 642
        },
        "id": "-mNhZiDjNy58",
        "outputId": "f7052cfd-ddcb-4aca-f5a0-cfd9761e52e8"
      },
      "execution_count": 34,
      "outputs": [
        {
          "output_type": "display_data",
          "data": {
            "text/plain": [
              "<Figure size 864x720 with 3 Axes>"
            ],
            "image/png": "[encoded data removed]"
          },
          "metadata": {
            "needs_background": "light"
          }
        }
      ]
    },
    {
      "cell_type": "markdown",
      "source": [
        "We can extract the following conclusions by analyzing the histograms above:\n",
        "\n",
        "The churn rate tends to be larger when monthly charges are high.\n",
        "\n",
        "New customers (low tenure) are more likely to churn.\n",
        "\n",
        "Clients with high total charges are less likely to leave the company.\n"
      ],
      "metadata": {
        "id": "ZAI7uGf2Pccd"
      }
    },
    {
      "cell_type": "markdown",
      "source": [
        "## **Services Information**"
      ],
      "metadata": {
        "id": "gCAQ6aaKP3EC"
      }
    },
    {
      "cell_type": "markdown",
      "source": [
        "Lastly, we evaluate the percentage of the target for each category of the services columns with stacked bar plots."
      ],
      "metadata": {
        "id": "s1Bb34qwP6zV"
      }
    },
    {
      "cell_type": "code",
      "source": [
        "# services column names\n",
        "services_columns = ['PhoneService', 'MultipleLines', 'InternetService', 'OnlineSecurity',\n",
        "                   'OnlineBackup', 'DeviceProtection', 'TechSupport', 'StreamingTV', 'StreamingMovies']\n",
        "\n",
        "# stacked plot of services columns\n",
        "percentage_stacked_plot(services_columns, 'Services Information')"
      ],
      "metadata": {
        "colab": {
          "base_uri": "https://localhost:8080/",
          "height": 1000
        },
        "id": "EzZTjLL5P46J",
        "outputId": "df4734b2-ffd9-42fe-d157-36a0a5b983a3"
      },
      "execution_count": 35,
      "outputs": [
        {
          "output_type": "display_data",
          "data": {
            "text/plain": [
              "<Figure size 864x1800 with 9 Axes>"
            ],
            "image/png": "[encoded data removed]"
          },
          "metadata": {
            "needs_background": "light"
          }
        }
      ]
    },
    {
      "cell_type": "markdown",
      "source": [
        "We can extract the following conclusions by evaluating services attributes:\n",
        "\n",
        "We do not expect phone attributes (PhoneService and MultipleLines) to have significant predictive power. The percentage of churn for all classes in both independent variables is nearly the same.\n",
        "\n",
        "Clients with online security churn less than those without it.\n",
        "\n",
        "Customers with no tech support tend to churn more often than those with tech support."
      ],
      "metadata": {
        "id": "HfyWyqtSQWlV"
      }
    },
    {
      "cell_type": "markdown",
      "source": [
        "## **4. Feature importance**"
      ],
      "metadata": {
        "id": "1Gdfs1ngf98O"
      }
    },
    {
      "cell_type": "markdown",
      "source": [
        "Mutual information — analysis of linear and nonlinear relationships\n",
        "Mutual information measures the mutual dependency between two variables based on entropy estimations. In machine learning, we are interested in evaluating the degree of dependency between each independent variable and the response variable. Higher values of mutual information show a higher degree of dependency which indicates that the independent variable will be useful for predicting the target.\n",
        "\n",
        "\n",
        "The Scikit-Learn library has implemented mutual information in the metrics package. The following code computes the mutual information score between each categorical variable of the data set and the Churn variable."
      ],
      "metadata": {
        "id": "XksOfS3ef_16"
      }
    },
    {
      "cell_type": "code",
      "source": [
        "from sklearn import metrics\n",
        "# function that computes the mutual infomation score between a categorical serie and the column Churn\n",
        "def compute_mutual_information(categorical_serie):\n",
        "    return metrics.mutual_info_score(categorical_serie, df_telco.Churn)\n",
        "\n",
        "# select categorial variables excluding the response variable \n",
        "categorical_variables = df_telco.select_dtypes(include=object).drop('Churn', axis=1)\n",
        "\n",
        "# compute the mutual information score between each categorical variable and the target\n",
        "plt.barh(categorical_variables.columns,categorical_variables.apply(compute_mutual_information))\n",
        "\n",
        "feature_importance = categorical_variables.apply(compute_mutual_information).sort_values(ascending=False)\n",
        "\n",
        "# visualize feature importance\n",
        "print(feature_importance)"
      ],
      "metadata": {
        "colab": {
          "base_uri": "https://localhost:8080/",
          "height": 557
        },
        "id": "NpFj0Mq9PTsZ",
        "outputId": "b643c626-6fba-4b1b-9290-634d8752dab3"
      },
      "execution_count": 93,
      "outputs": [
        {
          "output_type": "stream",
          "name": "stdout",
          "text": [
            "Contract            0.098182\n",
            "OnlineSecurity      0.064528\n",
            "TechSupport         0.062873\n",
            "InternetService     0.055394\n",
            "OnlineBackup        0.046659\n",
            "PaymentMethod       0.044423\n",
            "DeviceProtection    0.043784\n",
            "StreamingMovies     0.031918\n",
            "StreamingTV         0.031803\n",
            "PaperlessBilling    0.019119\n",
            "Dependents          0.014270\n",
            "Partner             0.011383\n",
            "MultipleLines       0.000798\n",
            "PhoneService        0.000069\n",
            "gender              0.000037\n",
            "dtype: float64\n"
          ]
        },
        {
          "output_type": "display_data",
          "data": {
            "text/plain": [
              "<Figure size 432x288 with 1 Axes>"
            ],
            "image/png": "[encoded data removed]"
          },
          "metadata": {
            "needs_background": "light"
          }
        }
      ]
    },
    {
      "cell_type": "markdown",
      "source": [
        "Mutual information allows us not only to better understand our data but also to identify the predictor variables that are completely independent of the target. As shown above, gender, PhoneService, and MultipleLines have a mutual information score really close to 0, meaning those variables do not have a strong relationship with the target."
      ],
      "metadata": {
        "id": "KUk-zuHoma9j"
      }
    },
    {
      "cell_type": "markdown",
      "source": [
        "## **5. Feature Engineering**"
      ],
      "metadata": {
        "id": "kj050NHomili"
      }
    },
    {
      "cell_type": "markdown",
      "source": [
        "**No modification:**\n",
        "\n",
        "The SeniorCitizen column is already a binary column and should not be modified."
      ],
      "metadata": {
        "id": "YelISne2m-2D"
      }
    },
    {
      "cell_type": "markdown",
      "source": [
        "**Label Encoding:**\n",
        "Label encoding is used to replace categorical values with numerical values. This encoding replaces every category with a numerical label. In this project, we use label encoding with the following binary variables:\n",
        " (1) gender, (2) Partner, (3) Dependents, (4)PaperlessBilling, (5)PhoneService , and (6)Churn ."
      ],
      "metadata": {
        "id": "WA7wKcXsnIZO"
      }
    },
    {
      "cell_type": "code",
      "source": [
        "df_telco_transformed = df_telco.copy()\n",
        "\n",
        "# label encoding (binary variables)\n",
        "label_encoding_columns = ['gender', 'Partner', 'Dependents', 'PaperlessBilling', 'PhoneService', 'Churn']\n",
        "\n",
        "# encode categorical binary features using label encoding\n",
        "for column in label_encoding_columns:\n",
        "    if column == 'gender':\n",
        "        df_telco_transformed[column] = df_telco_transformed[column].map({'Female': 1, 'Male': 0})\n",
        "    else: \n",
        "        df_telco_transformed[column] = df_telco_transformed[column].map({'Yes': 1, 'No': 0}) "
      ],
      "metadata": {
        "id": "BQ7efLdCtap9"
      },
      "execution_count": 117,
      "outputs": []
    },
    {
      "cell_type": "code",
      "source": [
        "# one-hot encoding (categorical variables with more than two levels)\n",
        "one_hot_encoding_columns = ['MultipleLines', 'InternetService', 'OnlineSecurity', 'OnlineBackup', 'DeviceProtection', \n",
        "                            'TechSupport', 'StreamingTV',  'StreamingMovies', 'Contract', 'PaymentMethod']\n",
        "\n",
        "# encode categorical variables with more than two levels using one-hot encoding\n",
        "df_telco_transformed = pd.get_dummies(df_telco_transformed, columns = one_hot_encoding_columns)"
      ],
      "metadata": {
        "id": "a243RTFjj65d"
      },
      "execution_count": 118,
      "outputs": []
    },
    {
      "cell_type": "code",
      "source": [
        "df_telco_transformed"
      ],
      "metadata": {
        "colab": {
          "base_uri": "https://localhost:8080/",
          "height": 505
        },
        "id": "twPrz7pJj9bs",
        "outputId": "a62edc1d-eb93-4e8a-8d6e-b3ef59ea2ddb"
      },
      "execution_count": 119,
      "outputs": [
        {
          "output_type": "execute_result",
          "data": {
            "text/plain": [
              "      gender  SeniorCitizen  Partner  Dependents  tenure  PhoneService  \\\n",
              "0          1              0        1           0       1             0   \n",
              "1          0              0        0           0      34             1   \n",
              "2          0              0        0           0       2             1   \n",
              "3          0              0        0           0      45             0   \n",
              "4          1              0        0           0       2             1   \n",
              "...      ...            ...      ...         ...     ...           ...   \n",
              "7038       0              0        1           1      24             1   \n",
              "7039       1              0        1           1      72             1   \n",
              "7040       1              0        1           1      11             0   \n",
              "7041       0              1        1           0       4             1   \n",
              "7042       0              0        0           0      66             1   \n",
              "\n",
              "      PaperlessBilling  MonthlyCharges  TotalCharges  Churn  ...  \\\n",
              "0                    1           29.85         29.85      0  ...   \n",
              "1                    0           56.95       1889.50      0  ...   \n",
              "2                    1           53.85        108.15      1  ...   \n",
              "3                    0           42.30       1840.75      0  ...   \n",
              "4                    1           70.70        151.65      1  ...   \n",
              "...                ...             ...           ...    ...  ...   \n",
              "7038                 1           84.80       1990.50      0  ...   \n",
              "7039                 1          103.20       7362.90      0  ...   \n",
              "7040                 1           29.60        346.45      0  ...   \n",
              "7041                 1           74.40        306.60      1  ...   \n",
              "7042                 1          105.65       6844.50      0  ...   \n",
              "\n",
              "      StreamingMovies_No  StreamingMovies_No internet service  \\\n",
              "0                      1                                    0   \n",
              "1                      1                                    0   \n",
              "2                      1                                    0   \n",
              "3                      1                                    0   \n",
              "4                      1                                    0   \n",
              "...                  ...                                  ...   \n",
              "7038                   0                                    0   \n",
              "7039                   0                                    0   \n",
              "7040                   1                                    0   \n",
              "7041                   1                                    0   \n",
              "7042                   0                                    0   \n",
              "\n",
              "      StreamingMovies_Yes  Contract_Month-to-month  Contract_One year  \\\n",
              "0                       0                        1                  0   \n",
              "1                       0                        0                  1   \n",
              "2                       0                        1                  0   \n",
              "3                       0                        0                  1   \n",
              "4                       0                        1                  0   \n",
              "...                   ...                      ...                ...   \n",
              "7038                    1                        0                  1   \n",
              "7039                    1                        0                  1   \n",
              "7040                    0                        1                  0   \n",
              "7041                    0                        1                  0   \n",
              "7042                    1                        0                  0   \n",
              "\n",
              "      Contract_Two year  PaymentMethod_Bank transfer  \\\n",
              "0                     0                            0   \n",
              "1                     0                            0   \n",
              "2                     0                            0   \n",
              "3                     0                            1   \n",
              "4                     0                            0   \n",
              "...                 ...                          ...   \n",
              "7038                  0                            0   \n",
              "7039                  0                            0   \n",
              "7040                  0                            0   \n",
              "7041                  0                            0   \n",
              "7042                  1                            1   \n",
              "\n",
              "      PaymentMethod_Credit card  PaymentMethod_Electronic check  \\\n",
              "0                             0                               1   \n",
              "1                             0                               0   \n",
              "2                             0                               0   \n",
              "3                             0                               0   \n",
              "4                             0                               1   \n",
              "...                         ...                             ...   \n",
              "7038                          0                               0   \n",
              "7039                          1                               0   \n",
              "7040                          0                               1   \n",
              "7041                          0                               0   \n",
              "7042                          0                               0   \n",
              "\n",
              "      PaymentMethod_Mailed check  \n",
              "0                              0  \n",
              "1                              1  \n",
              "2                              1  \n",
              "3                              0  \n",
              "4                              0  \n",
              "...                          ...  \n",
              "7038                           1  \n",
              "7039                           0  \n",
              "7040                           0  \n",
              "7041                           1  \n",
              "7042                           0  \n",
              "\n",
              "[7032 rows x 41 columns]"
            ],
            "text/html": [
              "\n",
              "  <div id=\"df-8b73c018-260c-4f27-8003-52d2db12ff0c\">\n",
              "    <div class=\"colab-df-container\">\n",
              "      <div>\n",
              "<style scoped>\n",
              "    .dataframe tbody tr th:only-of-type {\n",
              "        vertical-align: middle;\n",
              "    }\n",
              "\n",
              "    .dataframe tbody tr th {\n",
              "        vertical-align: top;\n",
              "    }\n",
              "\n",
              "    .dataframe thead th {\n",
              "        text-align: right;\n",
              "    }\n",
              "</style>\n",
              "<table border=\"1\" class=\"dataframe\">\n",
              "  <thead>\n",
              "    <tr style=\"text-align: right;\">\n",
              "      <th></th>\n",
              "      <th>gender</th>\n",
              "      <th>SeniorCitizen</th>\n",
              "      <th>Partner</th>\n",
              "      <th>Dependents</th>\n",
              "      <th>tenure</th>\n",
              "      <th>PhoneService</th>\n",
              "      <th>PaperlessBilling</th>\n",
              "      <th>MonthlyCharges</th>\n",
              "      <th>TotalCharges</th>\n",
              "      <th>Churn</th>\n",
              "      <th>...</th>\n",
              "      <th>StreamingMovies_No</th>\n",
              "      <th>StreamingMovies_No internet service</th>\n",
              "      <th>StreamingMovies_Yes</th>\n",
              "      <th>Contract_Month-to-month</th>\n",
              "      <th>Contract_One year</th>\n",
              "      <th>Contract_Two year</th>\n",
              "      <th>PaymentMethod_Bank transfer</th>\n",
              "      <th>PaymentMethod_Credit card</th>\n",
              "      <th>PaymentMethod_Electronic check</th>\n",
              "      <th>PaymentMethod_Mailed check</th>\n",
              "    </tr>\n",
              "  </thead>\n",
              "  <tbody>\n",
              "    <tr>\n",
              "      <th>0</th>\n",
              "      <td>1</td>\n",
              "      <td>0</td>\n",
              "      <td>1</td>\n",
              "      <td>0</td>\n",
              "      <td>1</td>\n",
              "      <td>0</td>\n",
              "      <td>1</td>\n",
              "      <td>29.85</td>\n",
              "      <td>29.85</td>\n",
              "      <td>0</td>\n",
              "      <td>...</td>\n",
              "      <td>1</td>\n",
              "      <td>0</td>\n",
              "      <td>0</td>\n",
              "      <td>1</td>\n",
              "      <td>0</td>\n",
              "      <td>0</td>\n",
              "      <td>0</td>\n",
              "      <td>0</td>\n",
              "      <td>1</td>\n",
              "      <td>0</td>\n",
              "    </tr>\n",
              "    <tr>\n",
              "      <th>1</th>\n",
              "      <td>0</td>\n",
              "      <td>0</td>\n",
              "      <td>0</td>\n",
              "      <td>0</td>\n",
              "      <td>34</td>\n",
              "      <td>1</td>\n",
              "      <td>0</td>\n",
              "      <td>56.95</td>\n",
              "      <td>1889.50</td>\n",
              "      <td>0</td>\n",
              "      <td>...</td>\n",
              "      <td>1</td>\n",
              "      <td>0</td>\n",
              "      <td>0</td>\n",
              "      <td>0</td>\n",
              "      <td>1</td>\n",
              "      <td>0</td>\n",
              "      <td>0</td>\n",
              "      <td>0</td>\n",
              "      <td>0</td>\n",
              "      <td>1</td>\n",
              "    </tr>\n",
              "    <tr>\n",
              "      <th>2</th>\n",
              "      <td>0</td>\n",
              "      <td>0</td>\n",
              "      <td>0</td>\n",
              "      <td>0</td>\n",
              "      <td>2</td>\n",
              "      <td>1</td>\n",
              "      <td>1</td>\n",
              "      <td>53.85</td>\n",
              "      <td>108.15</td>\n",
              "      <td>1</td>\n",
              "      <td>...</td>\n",
              "      <td>1</td>\n",
              "      <td>0</td>\n",
              "      <td>0</td>\n",
              "      <td>1</td>\n",
              "      <td>0</td>\n",
              "      <td>0</td>\n",
              "      <td>0</td>\n",
              "      <td>0</td>\n",
              "      <td>0</td>\n",
              "      <td>1</td>\n",
              "    </tr>\n",
              "    <tr>\n",
              "      <th>3</th>\n",
              "      <td>0</td>\n",
              "      <td>0</td>\n",
              "      <td>0</td>\n",
              "      <td>0</td>\n",
              "      <td>45</td>\n",
              "      <td>0</td>\n",
              "      <td>0</td>\n",
              "      <td>42.30</td>\n",
              "      <td>1840.75</td>\n",
              "      <td>0</td>\n",
              "      <td>...</td>\n",
              "      <td>1</td>\n",
              "      <td>0</td>\n",
              "      <td>0</td>\n",
              "      <td>0</td>\n",
              "      <td>1</td>\n",
              "      <td>0</td>\n",
              "      <td>1</td>\n",
              "      <td>0</td>\n",
              "      <td>0</td>\n",
              "      <td>0</td>\n",
              "    </tr>\n",
              "    <tr>\n",
              "      <th>4</th>\n",
              "      <td>1</td>\n",
              "      <td>0</td>\n",
              "      <td>0</td>\n",
              "      <td>0</td>\n",
              "      <td>2</td>\n",
              "      <td>1</td>\n",
              "      <td>1</td>\n",
              "      <td>70.70</td>\n",
              "      <td>151.65</td>\n",
              "      <td>1</td>\n",
              "      <td>...</td>\n",
              "      <td>1</td>\n",
              "      <td>0</td>\n",
              "      <td>0</td>\n",
              "      <td>1</td>\n",
              "      <td>0</td>\n",
              "      <td>0</td>\n",
              "      <td>0</td>\n",
              "      <td>0</td>\n",
              "      <td>1</td>\n",
              "      <td>0</td>\n",
              "    </tr>\n",
              "    <tr>\n",
              "      <th>...</th>\n",
              "      <td>...</td>\n",
              "      <td>...</td>\n",
              "      <td>...</td>\n",
              "      <td>...</td>\n",
              "      <td>...</td>\n",
              "      <td>...</td>\n",
              "      <td>...</td>\n",
              "      <td>...</td>\n",
              "      <td>...</td>\n",
              "      <td>...</td>\n",
              "      <td>...</td>\n",
              "      <td>...</td>\n",
              "      <td>...</td>\n",
              "      <td>...</td>\n",
              "      <td>...</td>\n",
              "      <td>...</td>\n",
              "      <td>...</td>\n",
              "      <td>...</td>\n",
              "      <td>...</td>\n",
              "      <td>...</td>\n",
              "      <td>...</td>\n",
              "    </tr>\n",
              "    <tr>\n",
              "      <th>7038</th>\n",
              "      <td>0</td>\n",
              "      <td>0</td>\n",
              "      <td>1</td>\n",
              "      <td>1</td>\n",
              "      <td>24</td>\n",
              "      <td>1</td>\n",
              "      <td>1</td>\n",
              "      <td>84.80</td>\n",
              "      <td>1990.50</td>\n",
              "      <td>0</td>\n",
              "      <td>...</td>\n",
              "      <td>0</td>\n",
              "      <td>0</td>\n",
              "      <td>1</td>\n",
              "      <td>0</td>\n",
              "      <td>1</td>\n",
              "      <td>0</td>\n",
              "      <td>0</td>\n",
              "      <td>0</td>\n",
              "      <td>0</td>\n",
              "      <td>1</td>\n",
              "    </tr>\n",
              "    <tr>\n",
              "      <th>7039</th>\n",
              "      <td>1</td>\n",
              "      <td>0</td>\n",
              "      <td>1</td>\n",
              "      <td>1</td>\n",
              "      <td>72</td>\n",
              "      <td>1</td>\n",
              "      <td>1</td>\n",
              "      <td>103.20</td>\n",
              "      <td>7362.90</td>\n",
              "      <td>0</td>\n",
              "      <td>...</td>\n",
              "      <td>0</td>\n",
              "      <td>0</td>\n",
              "      <td>1</td>\n",
              "      <td>0</td>\n",
              "      <td>1</td>\n",
              "      <td>0</td>\n",
              "      <td>0</td>\n",
              "      <td>1</td>\n",
              "      <td>0</td>\n",
              "      <td>0</td>\n",
              "    </tr>\n",
              "    <tr>\n",
              "      <th>7040</th>\n",
              "      <td>1</td>\n",
              "      <td>0</td>\n",
              "      <td>1</td>\n",
              "      <td>1</td>\n",
              "      <td>11</td>\n",
              "      <td>0</td>\n",
              "      <td>1</td>\n",
              "      <td>29.60</td>\n",
              "      <td>346.45</td>\n",
              "      <td>0</td>\n",
              "      <td>...</td>\n",
              "      <td>1</td>\n",
              "      <td>0</td>\n",
              "      <td>0</td>\n",
              "      <td>1</td>\n",
              "      <td>0</td>\n",
              "      <td>0</td>\n",
              "      <td>0</td>\n",
              "      <td>0</td>\n",
              "      <td>1</td>\n",
              "      <td>0</td>\n",
              "    </tr>\n",
              "    <tr>\n",
              "      <th>7041</th>\n",
              "      <td>0</td>\n",
              "      <td>1</td>\n",
              "      <td>1</td>\n",
              "      <td>0</td>\n",
              "      <td>4</td>\n",
              "      <td>1</td>\n",
              "      <td>1</td>\n",
              "      <td>74.40</td>\n",
              "      <td>306.60</td>\n",
              "      <td>1</td>\n",
              "      <td>...</td>\n",
              "      <td>1</td>\n",
              "      <td>0</td>\n",
              "      <td>0</td>\n",
              "      <td>1</td>\n",
              "      <td>0</td>\n",
              "      <td>0</td>\n",
              "      <td>0</td>\n",
              "      <td>0</td>\n",
              "      <td>0</td>\n",
              "      <td>1</td>\n",
              "    </tr>\n",
              "    <tr>\n",
              "      <th>7042</th>\n",
              "      <td>0</td>\n",
              "      <td>0</td>\n",
              "      <td>0</td>\n",
              "      <td>0</td>\n",
              "      <td>66</td>\n",
              "      <td>1</td>\n",
              "      <td>1</td>\n",
              "      <td>105.65</td>\n",
              "      <td>6844.50</td>\n",
              "      <td>0</td>\n",
              "      <td>...</td>\n",
              "      <td>0</td>\n",
              "      <td>0</td>\n",
              "      <td>1</td>\n",
              "      <td>0</td>\n",
              "      <td>0</td>\n",
              "      <td>1</td>\n",
              "      <td>1</td>\n",
              "      <td>0</td>\n",
              "      <td>0</td>\n",
              "      <td>0</td>\n",
              "    </tr>\n",
              "  </tbody>\n",
              "</table>\n",
              "<p>7032 rows × 41 columns</p>\n",
              "</div>\n",
              "      <button class=\"colab-df-convert\" onclick=\"convertToInteractive('df-8b73c018-260c-4f27-8003-52d2db12ff0c')\"\n",
              "              title=\"Convert this dataframe to an interactive table.\"\n",
              "              style=\"display:none;\">\n",
              "        \n",
              "  <svg xmlns=\"http://www.w3.org/2000/svg\" height=\"24px\"viewBox=\"0 0 24 24\"\n",
              "       width=\"24px\">\n",
              "    <path d=\"M0 0h24v24H0V0z\" fill=\"none\"/>\n",
              "    <path d=\"M18.56 5.44l.94 2.06.94-2.06 2.06-.94-2.06-.94-.94-2.06-.94 2.06-2.06.94zm-11 1L8.5 8.5l.94-2.06 2.06-.94-2.06-.94L8.5 2.5l-.94 2.06-2.06.94zm10 10l.94 2.06.94-2.06 2.06-.94-2.06-.94-.94-2.06-.94 2.06-2.06.94z\"/><path d=\"M17.41 7.96l-1.37-1.37c-.4-.4-.92-.59-1.43-.59-.52 0-1.04.2-1.43.59L10.3 9.45l-7.72 7.72c-.78.78-.78 2.05 0 2.83L4 21.41c.39.39.9.59 1.41.59.51 0 1.02-.2 1.41-.59l7.78-7.78 2.81-2.81c.8-.78.8-2.07 0-2.86zM5.41 20L4 18.59l7.72-7.72 1.47 1.35L5.41 20z\"/>\n",
              "  </svg>\n",
              "      </button>\n",
              "      \n",
              "  <style>\n",
              "    .colab-df-container {\n",
              "      display:flex;\n",
              "      flex-wrap:wrap;\n",
              "      gap: 12px;\n",
              "    }\n",
              "\n",
              "    .colab-df-convert {\n",
              "      background-color: #E8F0FE;\n",
              "      border: none;\n",
              "      border-radius: 50%;\n",
              "      cursor: pointer;\n",
              "      display: none;\n",
              "      fill: #1967D2;\n",
              "      height: 32px;\n",
              "      padding: 0 0 0 0;\n",
              "      width: 32px;\n",
              "    }\n",
              "\n",
              "    .colab-df-convert:hover {\n",
              "      background-color: #E2EBFA;\n",
              "      box-shadow: 0px 1px 2px rgba(60, 64, 67, 0.3), 0px 1px 3px 1px rgba(60, 64, 67, 0.15);\n",
              "      fill: #174EA6;\n",
              "    }\n",
              "\n",
              "    [theme=dark] .colab-df-convert {\n",
              "      background-color: #3B4455;\n",
              "      fill: #D2E3FC;\n",
              "    }\n",
              "\n",
              "    [theme=dark] .colab-df-convert:hover {\n",
              "      background-color: #434B5C;\n",
              "      box-shadow: 0px 1px 3px 1px rgba(0, 0, 0, 0.15);\n",
              "      filter: drop-shadow(0px 1px 2px rgba(0, 0, 0, 0.3));\n",
              "      fill: #FFFFFF;\n",
              "    }\n",
              "  </style>\n",
              "\n",
              "      <script>\n",
              "        const buttonEl =\n",
              "          document.querySelector('#df-8b73c018-260c-4f27-8003-52d2db12ff0c button.colab-df-convert');\n",
              "        buttonEl.style.display =\n",
              "          google.colab.kernel.accessAllowed ? 'block' : 'none';\n",
              "\n",
              "        async function convertToInteractive(key) {\n",
              "          const element = document.querySelector('#df-8b73c018-260c-4f27-8003-52d2db12ff0c');\n",
              "          const dataTable =\n",
              "            await google.colab.kernel.invokeFunction('convertToInteractive',\n",
              "                                                     [key], {});\n",
              "          if (!dataTable) return;\n",
              "\n",
              "          const docLinkHtml = 'Like what you see? Visit the ' +\n",
              "            '<a target=\"_blank\" href=https://colab.research.google.com/notebooks/data_table.ipynb>data table notebook</a>'\n",
              "            + ' to learn more about interactive tables.';\n",
              "          element.innerHTML = '';\n",
              "          dataTable['output_type'] = 'display_data';\n",
              "          await google.colab.output.renderOutput(dataTable, element);\n",
              "          const docLink = document.createElement('div');\n",
              "          docLink.innerHTML = docLinkHtml;\n",
              "          element.appendChild(docLink);\n",
              "        }\n",
              "      </script>\n",
              "    </div>\n",
              "  </div>\n",
              "  "
            ]
          },
          "metadata": {},
          "execution_count": 119
        }
      ]
    },
    {
      "cell_type": "markdown",
      "source": [
        "## **Normalization**"
      ],
      "metadata": {
        "id": "5uohUeMCgtr3"
      }
    },
    {
      "cell_type": "markdown",
      "source": [
        " min-max method to rescale the numeric columns (tenure, MontlyCharges, and TotalCharges)"
      ],
      "metadata": {
        "id": "N1nGbup4oC9y"
      }
    },
    {
      "cell_type": "code",
      "source": [
        "# min-max normalization (numeric variables)\n",
        "min_max_columns = ['tenure', 'MonthlyCharges', 'TotalCharges']\n",
        "\n",
        "# scale numerical variables using min max scaler\n",
        "for column in min_max_columns:\n",
        "        # minimum value of the column\n",
        "        min_column = df_telco_transformed[column].min()\n",
        "        # maximum value of the column\n",
        "        max_column = df_telco_transformed[column].max()\n",
        "        # min max scaler\n",
        "        df_telco_transformed[column] = (df_telco_transformed[column] - min_column) / (max_column - min_column)   "
      ],
      "metadata": {
        "id": "dvK-I46wga1p"
      },
      "execution_count": 120,
      "outputs": []
    },
    {
      "cell_type": "markdown",
      "source": [
        "## **6. Splitting the data in training and testing sets**"
      ],
      "metadata": {
        "id": "eXPXlv4-oKzO"
      }
    },
    {
      "cell_type": "code",
      "source": [
        "# select independent variables\n",
        "X = df_telco_transformed.drop(columns='Churn')\n",
        "\n",
        "# select dependent variables\n",
        "y = df_telco_transformed.loc[:, 'Churn']\n",
        "\n",
        "# prove that the variables were selected correctly\n",
        "print(X.columns)\n",
        "\n",
        "# prove that the variables were selected correctly\n",
        "print(y.name)"
      ],
      "metadata": {
        "colab": {
          "base_uri": "https://localhost:8080/"
        },
        "id": "PwazHn2PoHEl",
        "outputId": "bbc05182-7933-4584-f778-65afaf2022fe"
      },
      "execution_count": 121,
      "outputs": [
        {
          "output_type": "stream",
          "name": "stdout",
          "text": [
            "Index(['gender', 'SeniorCitizen', 'Partner', 'Dependents', 'tenure',\n",
            "       'PhoneService', 'PaperlessBilling', 'MonthlyCharges', 'TotalCharges',\n",
            "       'MultipleLines_No', 'MultipleLines_No phone service',\n",
            "       'MultipleLines_Yes', 'InternetService_DSL',\n",
            "       'InternetService_Fiber optic', 'InternetService_No',\n",
            "       'OnlineSecurity_No', 'OnlineSecurity_No internet service',\n",
            "       'OnlineSecurity_Yes', 'OnlineBackup_No',\n",
            "       'OnlineBackup_No internet service', 'OnlineBackup_Yes',\n",
            "       'DeviceProtection_No', 'DeviceProtection_No internet service',\n",
            "       'DeviceProtection_Yes', 'TechSupport_No',\n",
            "       'TechSupport_No internet service', 'TechSupport_Yes', 'StreamingTV_No',\n",
            "       'StreamingTV_No internet service', 'StreamingTV_Yes',\n",
            "       'StreamingMovies_No', 'StreamingMovies_No internet service',\n",
            "       'StreamingMovies_Yes', 'Contract_Month-to-month', 'Contract_One year',\n",
            "       'Contract_Two year', 'PaymentMethod_Bank transfer',\n",
            "       'PaymentMethod_Credit card', 'PaymentMethod_Electronic check',\n",
            "       'PaymentMethod_Mailed check'],\n",
            "      dtype='object')\n",
            "Churn\n"
          ]
        }
      ]
    },
    {
      "cell_type": "code",
      "source": [
        "# split the data in training and testing sets\n",
        "X_train, X_test, y_train, y_test = train_test_split(X, y, test_size=0.25, random_state=40, shuffle=True)"
      ],
      "metadata": {
        "id": "kaP_MtnQoTKk"
      },
      "execution_count": 122,
      "outputs": []
    },
    {
      "cell_type": "markdown",
      "source": [
        "## **7. Assessing multiple algorithms**"
      ],
      "metadata": {
        "id": "BP40SUJfoeNb"
      }
    },
    {
      "cell_type": "code",
      "source": [
        "from sklearn.dummy import DummyClassifier\n",
        "from sklearn.neighbors import KNeighborsClassifier\n",
        "from sklearn.linear_model import LogisticRegression\n",
        "from sklearn.svm import SVC\n",
        "from sklearn.ensemble import RandomForestClassifier\n",
        "from sklearn.ensemble import GradientBoostingClassifier\n",
        "\n",
        "def create_models(seed=2):\n",
        "   \n",
        "\n",
        "    models = []\n",
        "    models.append(('dummy_classifier', DummyClassifier(random_state=seed, strategy='most_frequent')))\n",
        "    models.append(('k_nearest_neighbors', KNeighborsClassifier()))\n",
        "    models.append(('logistic_regression', LogisticRegression(random_state=seed)))\n",
        "    models.append(('support_vector_machines', SVC(random_state=seed)))\n",
        "    models.append(('random_forest', RandomForestClassifier(random_state=seed)))\n",
        "    models.append(('gradient_boosting', GradientBoostingClassifier(random_state=seed)))\n",
        "    \n",
        "    return models\n",
        "\n",
        "# create a list with all the algorithms we are going to assess\n",
        "models = create_models()"
      ],
      "metadata": {
        "id": "5ckh-gBdoZzv"
      },
      "execution_count": 123,
      "outputs": []
    },
    {
      "cell_type": "code",
      "source": [
        "# test the accuracy of each model using default hyperparameters\n",
        "from sklearn.metrics import accuracy_score\n",
        "results = []\n",
        "names = []\n",
        "scoring = 'accuracy'\n",
        "for name, model in models:\n",
        "    # fit the model with the training data\n",
        "    model.fit(X_train, y_train)\n",
        "    # make predictions with the testing data\n",
        "    predictions = model.predict(X_test)\n",
        "    # calculate accuracy  \n",
        "    accuracy = accuracy_score(y_test, predictions)\n",
        "    # append the model name and the accuracy to the lists\n",
        "    results.append(accuracy)\n",
        "    names.append(name)\n",
        "    # print classifier accuracy\n",
        "    print('Classifier: {}, Accuracy: {})'.format(name, accuracy))"
      ],
      "metadata": {
        "colab": {
          "base_uri": "https://localhost:8080/"
        },
        "id": "y5FdX3wNpbIG",
        "outputId": "8348eeb3-c1f3-4571-e27f-1a4007ea41ec"
      },
      "execution_count": 125,
      "outputs": [
        {
          "output_type": "stream",
          "name": "stdout",
          "text": [
            "Classifier: dummy_classifier, Accuracy: 0.745164960182025)\n",
            "Classifier: k_nearest_neighbors, Accuracy: 0.7531285551763367)\n",
            "Classifier: logistic_regression, Accuracy: 0.7923777019340159)\n"
          ]
        },
        {
          "output_type": "stream",
          "name": "stderr",
          "text": [
            "/usr/local/lib/python3.7/dist-packages/sklearn/linear_model/_logistic.py:818: ConvergenceWarning: lbfgs failed to converge (status=1):\n",
            "STOP: TOTAL NO. of ITERATIONS REACHED LIMIT.\n",
            "\n",
            "Increase the number of iterations (max_iter) or scale the data as shown in:\n",
            "    https://scikit-learn.org/stable/modules/preprocessing.html\n",
            "Please also refer to the documentation for alternative solver options:\n",
            "    https://scikit-learn.org/stable/modules/linear_model.html#logistic-regression\n",
            "  extra_warning_msg=_LOGISTIC_SOLVER_CONVERGENCE_MSG,\n"
          ]
        },
        {
          "output_type": "stream",
          "name": "stdout",
          "text": [
            "Classifier: support_vector_machines, Accuracy: 0.7878270762229806)\n",
            "Classifier: random_forest, Accuracy: 0.7713310580204779)\n",
            "Classifier: gradient_boosting, Accuracy: 0.7963594994311718)\n"
          ]
        }
      ]
    },
    {
      "cell_type": "code",
      "source": [
        "X_train"
      ],
      "metadata": {
        "colab": {
          "base_uri": "https://localhost:8080/",
          "height": 505
        },
        "id": "iDhFBItcqQlo",
        "outputId": "a986db9e-5539-430c-b9aa-2bcc0483addb"
      },
      "execution_count": 108,
      "outputs": [
        {
          "output_type": "execute_result",
          "data": {
            "text/plain": [
              "      gender  SeniorCitizen Partner Dependents    tenure PhoneService  \\\n",
              "4028    Male              0      No         No  0.873239          Yes   \n",
              "6458    Male              0     Yes        Yes  0.070423          Yes   \n",
              "4144    Male              0      No         No  0.281690          Yes   \n",
              "4555    Male              0     Yes        Yes  0.253521          Yes   \n",
              "4823    Male              0      No         No  0.000000          Yes   \n",
              "...      ...            ...     ...        ...       ...          ...   \n",
              "3069  Female              0      No         No  0.126761          Yes   \n",
              "6318    Male              0      No        Yes  0.154930          Yes   \n",
              "6160  Female              0      No         No  0.492958          Yes   \n",
              "6372    Male              0     Yes        Yes  0.042254          Yes   \n",
              "3404  Female              0      No        Yes  0.478873          Yes   \n",
              "\n",
              "     PaperlessBilling  MonthlyCharges  TotalCharges  MultipleLines_No  ...  \\\n",
              "4028               No        0.904975      0.811326                 1  ...   \n",
              "6458              Yes        0.307463      0.031947                 1  ...   \n",
              "4144               No        0.851741      0.253427                 0  ...   \n",
              "4555               No        0.019403      0.042534                 1  ...   \n",
              "4823              Yes        0.355224      0.004056                 1  ...   \n",
              "...               ...             ...           ...               ...  ...   \n",
              "3069              Yes        0.022886      0.019450                 1  ...   \n",
              "6318               No        0.027861      0.025040                 1  ...   \n",
              "6160              Yes        0.710448      0.384180                 0  ...   \n",
              "6372               No        0.012438      0.009006                 1  ...   \n",
              "3404               No        0.371642      0.230516                 1  ...   \n",
              "\n",
              "      StreamingMovies_No  StreamingMovies_No internet service  \\\n",
              "4028                   0                                    0   \n",
              "6458                   1                                    0   \n",
              "4144                   0                                    0   \n",
              "4555                   0                                    1   \n",
              "4823                   1                                    0   \n",
              "...                  ...                                  ...   \n",
              "3069                   0                                    1   \n",
              "6318                   0                                    1   \n",
              "6160                   0                                    0   \n",
              "6372                   0                                    1   \n",
              "3404                   1                                    0   \n",
              "\n",
              "      StreamingMovies_Yes  Contract_Month-to-month  Contract_One year  \\\n",
              "4028                    1                        0                  0   \n",
              "6458                    0                        1                  0   \n",
              "4144                    1                        1                  0   \n",
              "4555                    0                        0                  0   \n",
              "4823                    0                        1                  0   \n",
              "...                   ...                      ...                ...   \n",
              "3069                    0                        1                  0   \n",
              "6318                    0                        1                  0   \n",
              "6160                    1                        0                  1   \n",
              "6372                    0                        0                  0   \n",
              "3404                    0                        0                  1   \n",
              "\n",
              "      Contract_Two year  PaymentMethod_Bank transfer  \\\n",
              "4028                  1                            0   \n",
              "6458                  0                            0   \n",
              "4144                  0                            0   \n",
              "4555                  1                            0   \n",
              "4823                  0                            0   \n",
              "...                 ...                          ...   \n",
              "3069                  0                            0   \n",
              "6318                  0                            0   \n",
              "6160                  0                            0   \n",
              "6372                  1                            0   \n",
              "3404                  0                            0   \n",
              "\n",
              "      PaymentMethod_Credit card  PaymentMethod_Electronic check  \\\n",
              "4028                          1                               0   \n",
              "6458                          0                               1   \n",
              "4144                          0                               0   \n",
              "4555                          0                               0   \n",
              "4823                          0                               1   \n",
              "...                         ...                             ...   \n",
              "3069                          0                               0   \n",
              "6318                          1                               0   \n",
              "6160                          1                               0   \n",
              "6372                          1                               0   \n",
              "3404                          1                               0   \n",
              "\n",
              "      PaymentMethod_Mailed check  \n",
              "4028                           0  \n",
              "6458                           0  \n",
              "4144                           1  \n",
              "4555                           1  \n",
              "4823                           0  \n",
              "...                          ...  \n",
              "3069                           1  \n",
              "6318                           0  \n",
              "6160                           0  \n",
              "6372                           0  \n",
              "3404                           0  \n",
              "\n",
              "[5274 rows x 40 columns]"
            ],
            "text/html": [
              "\n",
              "  <div id=\"df-688635d5-b934-4020-a52d-cbcaa34027c1\">\n",
              "    <div class=\"colab-df-container\">\n",
              "      <div>\n",
              "<style scoped>\n",
              "    .dataframe tbody tr th:only-of-type {\n",
              "        vertical-align: middle;\n",
              "    }\n",
              "\n",
              "    .dataframe tbody tr th {\n",
              "        vertical-align: top;\n",
              "    }\n",
              "\n",
              "    .dataframe thead th {\n",
              "        text-align: right;\n",
              "    }\n",
              "</style>\n",
              "<table border=\"1\" class=\"dataframe\">\n",
              "  <thead>\n",
              "    <tr style=\"text-align: right;\">\n",
              "      <th></th>\n",
              "      <th>gender</th>\n",
              "      <th>SeniorCitizen</th>\n",
              "      <th>Partner</th>\n",
              "      <th>Dependents</th>\n",
              "      <th>tenure</th>\n",
              "      <th>PhoneService</th>\n",
              "      <th>PaperlessBilling</th>\n",
              "      <th>MonthlyCharges</th>\n",
              "      <th>TotalCharges</th>\n",
              "      <th>MultipleLines_No</th>\n",
              "      <th>...</th>\n",
              "      <th>StreamingMovies_No</th>\n",
              "      <th>StreamingMovies_No internet service</th>\n",
              "      <th>StreamingMovies_Yes</th>\n",
              "      <th>Contract_Month-to-month</th>\n",
              "      <th>Contract_One year</th>\n",
              "      <th>Contract_Two year</th>\n",
              "      <th>PaymentMethod_Bank transfer</th>\n",
              "      <th>PaymentMethod_Credit card</th>\n",
              "      <th>PaymentMethod_Electronic check</th>\n",
              "      <th>PaymentMethod_Mailed check</th>\n",
              "    </tr>\n",
              "  </thead>\n",
              "  <tbody>\n",
              "    <tr>\n",
              "      <th>4028</th>\n",
              "      <td>Male</td>\n",
              "      <td>0</td>\n",
              "      <td>No</td>\n",
              "      <td>No</td>\n",
              "      <td>0.873239</td>\n",
              "      <td>Yes</td>\n",
              "      <td>No</td>\n",
              "      <td>0.904975</td>\n",
              "      <td>0.811326</td>\n",
              "      <td>1</td>\n",
              "      <td>...</td>\n",
              "      <td>0</td>\n",
              "      <td>0</td>\n",
              "      <td>1</td>\n",
              "      <td>0</td>\n",
              "      <td>0</td>\n",
              "      <td>1</td>\n",
              "      <td>0</td>\n",
              "      <td>1</td>\n",
              "      <td>0</td>\n",
              "      <td>0</td>\n",
              "    </tr>\n",
              "    <tr>\n",
              "      <th>6458</th>\n",
              "      <td>Male</td>\n",
              "      <td>0</td>\n",
              "      <td>Yes</td>\n",
              "      <td>Yes</td>\n",
              "      <td>0.070423</td>\n",
              "      <td>Yes</td>\n",
              "      <td>Yes</td>\n",
              "      <td>0.307463</td>\n",
              "      <td>0.031947</td>\n",
              "      <td>1</td>\n",
              "      <td>...</td>\n",
              "      <td>1</td>\n",
              "      <td>0</td>\n",
              "      <td>0</td>\n",
              "      <td>1</td>\n",
              "      <td>0</td>\n",
              "      <td>0</td>\n",
              "      <td>0</td>\n",
              "      <td>0</td>\n",
              "      <td>1</td>\n",
              "      <td>0</td>\n",
              "    </tr>\n",
              "    <tr>\n",
              "      <th>4144</th>\n",
              "      <td>Male</td>\n",
              "      <td>0</td>\n",
              "      <td>No</td>\n",
              "      <td>No</td>\n",
              "      <td>0.281690</td>\n",
              "      <td>Yes</td>\n",
              "      <td>No</td>\n",
              "      <td>0.851741</td>\n",
              "      <td>0.253427</td>\n",
              "      <td>0</td>\n",
              "      <td>...</td>\n",
              "      <td>0</td>\n",
              "      <td>0</td>\n",
              "      <td>1</td>\n",
              "      <td>1</td>\n",
              "      <td>0</td>\n",
              "      <td>0</td>\n",
              "      <td>0</td>\n",
              "      <td>0</td>\n",
              "      <td>0</td>\n",
              "      <td>1</td>\n",
              "    </tr>\n",
              "    <tr>\n",
              "      <th>4555</th>\n",
              "      <td>Male</td>\n",
              "      <td>0</td>\n",
              "      <td>Yes</td>\n",
              "      <td>Yes</td>\n",
              "      <td>0.253521</td>\n",
              "      <td>Yes</td>\n",
              "      <td>No</td>\n",
              "      <td>0.019403</td>\n",
              "      <td>0.042534</td>\n",
              "      <td>1</td>\n",
              "      <td>...</td>\n",
              "      <td>0</td>\n",
              "      <td>1</td>\n",
              "      <td>0</td>\n",
              "      <td>0</td>\n",
              "      <td>0</td>\n",
              "      <td>1</td>\n",
              "      <td>0</td>\n",
              "      <td>0</td>\n",
              "      <td>0</td>\n",
              "      <td>1</td>\n",
              "    </tr>\n",
              "    <tr>\n",
              "      <th>4823</th>\n",
              "      <td>Male</td>\n",
              "      <td>0</td>\n",
              "      <td>No</td>\n",
              "      <td>No</td>\n",
              "      <td>0.000000</td>\n",
              "      <td>Yes</td>\n",
              "      <td>Yes</td>\n",
              "      <td>0.355224</td>\n",
              "      <td>0.004056</td>\n",
              "      <td>1</td>\n",
              "      <td>...</td>\n",
              "      <td>1</td>\n",
              "      <td>0</td>\n",
              "      <td>0</td>\n",
              "      <td>1</td>\n",
              "      <td>0</td>\n",
              "      <td>0</td>\n",
              "      <td>0</td>\n",
              "      <td>0</td>\n",
              "      <td>1</td>\n",
              "      <td>0</td>\n",
              "    </tr>\n",
              "    <tr>\n",
              "      <th>...</th>\n",
              "      <td>...</td>\n",
              "      <td>...</td>\n",
              "      <td>...</td>\n",
              "      <td>...</td>\n",
              "      <td>...</td>\n",
              "      <td>...</td>\n",
              "      <td>...</td>\n",
              "      <td>...</td>\n",
              "      <td>...</td>\n",
              "      <td>...</td>\n",
              "      <td>...</td>\n",
              "      <td>...</td>\n",
              "      <td>...</td>\n",
              "      <td>...</td>\n",
              "      <td>...</td>\n",
              "      <td>...</td>\n",
              "      <td>...</td>\n",
              "      <td>...</td>\n",
              "      <td>...</td>\n",
              "      <td>...</td>\n",
              "      <td>...</td>\n",
              "    </tr>\n",
              "    <tr>\n",
              "      <th>3069</th>\n",
              "      <td>Female</td>\n",
              "      <td>0</td>\n",
              "      <td>No</td>\n",
              "      <td>No</td>\n",
              "      <td>0.126761</td>\n",
              "      <td>Yes</td>\n",
              "      <td>Yes</td>\n",
              "      <td>0.022886</td>\n",
              "      <td>0.019450</td>\n",
              "      <td>1</td>\n",
              "      <td>...</td>\n",
              "      <td>0</td>\n",
              "      <td>1</td>\n",
              "      <td>0</td>\n",
              "      <td>1</td>\n",
              "      <td>0</td>\n",
              "      <td>0</td>\n",
              "      <td>0</td>\n",
              "      <td>0</td>\n",
              "      <td>0</td>\n",
              "      <td>1</td>\n",
              "    </tr>\n",
              "    <tr>\n",
              "      <th>6318</th>\n",
              "      <td>Male</td>\n",
              "      <td>0</td>\n",
              "      <td>No</td>\n",
              "      <td>Yes</td>\n",
              "      <td>0.154930</td>\n",
              "      <td>Yes</td>\n",
              "      <td>No</td>\n",
              "      <td>0.027861</td>\n",
              "      <td>0.025040</td>\n",
              "      <td>1</td>\n",
              "      <td>...</td>\n",
              "      <td>0</td>\n",
              "      <td>1</td>\n",
              "      <td>0</td>\n",
              "      <td>1</td>\n",
              "      <td>0</td>\n",
              "      <td>0</td>\n",
              "      <td>0</td>\n",
              "      <td>1</td>\n",
              "      <td>0</td>\n",
              "      <td>0</td>\n",
              "    </tr>\n",
              "    <tr>\n",
              "      <th>6160</th>\n",
              "      <td>Female</td>\n",
              "      <td>0</td>\n",
              "      <td>No</td>\n",
              "      <td>No</td>\n",
              "      <td>0.492958</td>\n",
              "      <td>Yes</td>\n",
              "      <td>Yes</td>\n",
              "      <td>0.710448</td>\n",
              "      <td>0.384180</td>\n",
              "      <td>0</td>\n",
              "      <td>...</td>\n",
              "      <td>0</td>\n",
              "      <td>0</td>\n",
              "      <td>1</td>\n",
              "      <td>0</td>\n",
              "      <td>1</td>\n",
              "      <td>0</td>\n",
              "      <td>0</td>\n",
              "      <td>1</td>\n",
              "      <td>0</td>\n",
              "      <td>0</td>\n",
              "    </tr>\n",
              "    <tr>\n",
              "      <th>6372</th>\n",
              "      <td>Male</td>\n",
              "      <td>0</td>\n",
              "      <td>Yes</td>\n",
              "      <td>Yes</td>\n",
              "      <td>0.042254</td>\n",
              "      <td>Yes</td>\n",
              "      <td>No</td>\n",
              "      <td>0.012438</td>\n",
              "      <td>0.009006</td>\n",
              "      <td>1</td>\n",
              "      <td>...</td>\n",
              "      <td>0</td>\n",
              "      <td>1</td>\n",
              "      <td>0</td>\n",
              "      <td>0</td>\n",
              "      <td>0</td>\n",
              "      <td>1</td>\n",
              "      <td>0</td>\n",
              "      <td>1</td>\n",
              "      <td>0</td>\n",
              "      <td>0</td>\n",
              "    </tr>\n",
              "    <tr>\n",
              "      <th>3404</th>\n",
              "      <td>Female</td>\n",
              "      <td>0</td>\n",
              "      <td>No</td>\n",
              "      <td>Yes</td>\n",
              "      <td>0.478873</td>\n",
              "      <td>Yes</td>\n",
              "      <td>No</td>\n",
              "      <td>0.371642</td>\n",
              "      <td>0.230516</td>\n",
              "      <td>1</td>\n",
              "      <td>...</td>\n",
              "      <td>1</td>\n",
              "      <td>0</td>\n",
              "      <td>0</td>\n",
              "      <td>0</td>\n",
              "      <td>1</td>\n",
              "      <td>0</td>\n",
              "      <td>0</td>\n",
              "      <td>1</td>\n",
              "      <td>0</td>\n",
              "      <td>0</td>\n",
              "    </tr>\n",
              "  </tbody>\n",
              "</table>\n",
              "<p>5274 rows × 40 columns</p>\n",
              "</div>\n",
              "      <button class=\"colab-df-convert\" onclick=\"convertToInteractive('df-688635d5-b934-4020-a52d-cbcaa34027c1')\"\n",
              "              title=\"Convert this dataframe to an interactive table.\"\n",
              "              style=\"display:none;\">\n",
              "        \n",
              "  <svg xmlns=\"http://www.w3.org/2000/svg\" height=\"24px\"viewBox=\"0 0 24 24\"\n",
              "       width=\"24px\">\n",
              "    <path d=\"M0 0h24v24H0V0z\" fill=\"none\"/>\n",
              "    <path d=\"M18.56 5.44l.94 2.06.94-2.06 2.06-.94-2.06-.94-.94-2.06-.94 2.06-2.06.94zm-11 1L8.5 8.5l.94-2.06 2.06-.94-2.06-.94L8.5 2.5l-.94 2.06-2.06.94zm10 10l.94 2.06.94-2.06 2.06-.94-2.06-.94-.94-2.06-.94 2.06-2.06.94z\"/><path d=\"M17.41 7.96l-1.37-1.37c-.4-.4-.92-.59-1.43-.59-.52 0-1.04.2-1.43.59L10.3 9.45l-7.72 7.72c-.78.78-.78 2.05 0 2.83L4 21.41c.39.39.9.59 1.41.59.51 0 1.02-.2 1.41-.59l7.78-7.78 2.81-2.81c.8-.78.8-2.07 0-2.86zM5.41 20L4 18.59l7.72-7.72 1.47 1.35L5.41 20z\"/>\n",
              "  </svg>\n",
              "      </button>\n",
              "      \n",
              "  <style>\n",
              "    .colab-df-container {\n",
              "      display:flex;\n",
              "      flex-wrap:wrap;\n",
              "      gap: 12px;\n",
              "    }\n",
              "\n",
              "    .colab-df-convert {\n",
              "      background-color: #E8F0FE;\n",
              "      border: none;\n",
              "      border-radius: 50%;\n",
              "      cursor: pointer;\n",
              "      display: none;\n",
              "      fill: #1967D2;\n",
              "      height: 32px;\n",
              "      padding: 0 0 0 0;\n",
              "      width: 32px;\n",
              "    }\n",
              "\n",
              "    .colab-df-convert:hover {\n",
              "      background-color: #E2EBFA;\n",
              "      box-shadow: 0px 1px 2px rgba(60, 64, 67, 0.3), 0px 1px 3px 1px rgba(60, 64, 67, 0.15);\n",
              "      fill: #174EA6;\n",
              "    }\n",
              "\n",
              "    [theme=dark] .colab-df-convert {\n",
              "      background-color: #3B4455;\n",
              "      fill: #D2E3FC;\n",
              "    }\n",
              "\n",
              "    [theme=dark] .colab-df-convert:hover {\n",
              "      background-color: #434B5C;\n",
              "      box-shadow: 0px 1px 3px 1px rgba(0, 0, 0, 0.15);\n",
              "      filter: drop-shadow(0px 1px 2px rgba(0, 0, 0, 0.3));\n",
              "      fill: #FFFFFF;\n",
              "    }\n",
              "  </style>\n",
              "\n",
              "      <script>\n",
              "        const buttonEl =\n",
              "          document.querySelector('#df-688635d5-b934-4020-a52d-cbcaa34027c1 button.colab-df-convert');\n",
              "        buttonEl.style.display =\n",
              "          google.colab.kernel.accessAllowed ? 'block' : 'none';\n",
              "\n",
              "        async function convertToInteractive(key) {\n",
              "          const element = document.querySelector('#df-688635d5-b934-4020-a52d-cbcaa34027c1');\n",
              "          const dataTable =\n",
              "            await google.colab.kernel.invokeFunction('convertToInteractive',\n",
              "                                                     [key], {});\n",
              "          if (!dataTable) return;\n",
              "\n",
              "          const docLinkHtml = 'Like what you see? Visit the ' +\n",
              "            '<a target=\"_blank\" href=https://colab.research.google.com/notebooks/data_table.ipynb>data table notebook</a>'\n",
              "            + ' to learn more about interactive tables.';\n",
              "          element.innerHTML = '';\n",
              "          dataTable['output_type'] = 'display_data';\n",
              "          await google.colab.output.renderOutput(dataTable, element);\n",
              "          const docLink = document.createElement('div');\n",
              "          docLink.innerHTML = docLinkHtml;\n",
              "          element.appendChild(docLink);\n",
              "        }\n",
              "      </script>\n",
              "    </div>\n",
              "  </div>\n",
              "  "
            ]
          },
          "metadata": {},
          "execution_count": 108
        }
      ]
    },
    {
      "cell_type": "markdown",
      "source": [
        "## **8.  Algorithm selected: Gradient Boosting**"
      ],
      "metadata": {
        "id": "r9n75cu_vxzv"
      }
    },
    {
      "cell_type": "markdown",
      "source": [
        "GradientBoostingClassifier has multiple hyperparameters; some of them are listed below:\n",
        "\n",
        "learning_rate: the contribution of each tree to the final prediction.\n",
        "n_estimators: the number of decision trees to perform (boosting stages).\n",
        "max_depth: the maximum depth of the individual regression estimators.\n",
        "max_features: the number of features to consider when looking for the best split.\n",
        "\n",
        "min_samples_split: the minimum number of samples required to split an internal node."
      ],
      "metadata": {
        "id": "R-gPRHshyiI9"
      }
    },
    {
      "cell_type": "markdown",
      "source": [
        "## **9. Hyperparameter tuning**"
      ],
      "metadata": {
        "id": "1w5oW31ZxJCI"
      }
    },
    {
      "cell_type": "code",
      "source": [
        "# define the parameter grid\n",
        "from sklearn.model_selection import RandomizedSearchCV\n",
        "grid_parameters = {'n_estimators': [80, 90, 100, 110, 115, 120],\n",
        "                   'max_depth': [3, 4, 5, 6],\n",
        "                   'max_features': [None, 'auto', 'sqrt', 'log2'], \n",
        "                   'min_samples_split': [2, 3, 4, 5]}\n",
        "\n",
        "\n",
        "# define the RandomizedSearchCV class for trying different parameter combinations\n",
        "random_search = RandomizedSearchCV(estimator=GradientBoostingClassifier(),\n",
        "                                   param_distributions=grid_parameters,\n",
        "                                   cv=5,\n",
        "                                   n_iter=150,\n",
        "                                   n_jobs=-1)\n",
        "\n",
        "# fitting the model for random search \n",
        "random_search.fit(X_train, y_train)\n",
        "\n",
        "# print best parameter after tuning\n",
        "print(random_search.best_params_)"
      ],
      "metadata": {
        "colab": {
          "base_uri": "https://localhost:8080/"
        },
        "id": "OVVaaO3OxJ61",
        "outputId": "c13d4e37-9646-44fc-b6c8-924e0d6723cd"
      },
      "execution_count": 126,
      "outputs": [
        {
          "output_type": "stream",
          "name": "stdout",
          "text": [
            "{'n_estimators': 120, 'min_samples_split': 5, 'max_features': 'log2', 'max_depth': 3}\n"
          ]
        }
      ]
    },
    {
      "cell_type": "markdown",
      "source": [
        "## **10. Performace of the model**"
      ],
      "metadata": {
        "id": "MuoXAKDYyNlO"
      }
    },
    {
      "cell_type": "markdown",
      "source": [
        "he output is a NumPy array where the rows represent the true values and the columns the predicted classes."
      ],
      "metadata": {
        "id": "2rQT39cVyZFb"
      }
    },
    {
      "cell_type": "code",
      "source": [
        "# make the predictions\n",
        "random_search_predictions = random_search.predict(X_test)\n",
        "\n",
        "# construct the confusion matrix\n",
        "confusion_matrix = confusion_matrix(y_test, random_search_predictions)\n",
        "\n",
        "# visualize the confusion matrix\n",
        "confusion_matrix"
      ],
      "metadata": {
        "colab": {
          "base_uri": "https://localhost:8080/"
        },
        "id": "KGjaIDdw0LnI",
        "outputId": "c429c3ed-1a0a-4866-b8aa-5eddde5b73c5"
      },
      "execution_count": 130,
      "outputs": [
        {
          "output_type": "execute_result",
          "data": {
            "text/plain": [
              "array([[1146,  164],\n",
              "       [ 197,  251]])"
            ]
          },
          "metadata": {},
          "execution_count": 130
        }
      ]
    },
    {
      "cell_type": "code",
      "source": [
        "# print classification report \n",
        "print(classification_report(y_test, random_search_predictions))"
      ],
      "metadata": {
        "colab": {
          "base_uri": "https://localhost:8080/"
        },
        "id": "-45JAoUbyESJ",
        "outputId": "72afa8be-b301-40be-c83e-199b0cce33ea"
      },
      "execution_count": 132,
      "outputs": [
        {
          "output_type": "stream",
          "name": "stdout",
          "text": [
            "              precision    recall  f1-score   support\n",
            "\n",
            "           0       0.85      0.87      0.86      1310\n",
            "           1       0.60      0.56      0.58       448\n",
            "\n",
            "    accuracy                           0.79      1758\n",
            "   macro avg       0.73      0.72      0.72      1758\n",
            "weighted avg       0.79      0.79      0.79      1758\n",
            "\n"
          ]
        }
      ]
    },
    {
      "cell_type": "markdown",
      "source": [
        "We can observe, hyperparameter tuning has barely increased the accuracy of the model."
      ],
      "metadata": {
        "id": "CobBk_i2zAc5"
      }
    },
    {
      "cell_type": "code",
      "source": [],
      "metadata": {
        "id": "tAq0Zp4s0X49"
      },
      "execution_count": null,
      "outputs": []
    }
  ]
}